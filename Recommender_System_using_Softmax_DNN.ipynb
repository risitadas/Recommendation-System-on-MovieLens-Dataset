{
  "nbformat": 4,
  "nbformat_minor": 0,
  "metadata": {
    "colab": {
      "provenance": [],
      "authorship_tag": "ABX9TyPtnBYRd6Xf3dWNQuLYlgEo",
      "include_colab_link": true
    },
    "kernelspec": {
      "name": "python3",
      "display_name": "Python 3"
    },
    "language_info": {
      "name": "python"
    }
  },
  "cells": [
    {
      "cell_type": "markdown",
      "metadata": {
        "id": "view-in-github",
        "colab_type": "text"
      },
      "source": [
        "<a href=\"https://colab.research.google.com/github/risitadas/Recommendation-System-on-MovieLens-Dataset/blob/main/Recommender_System_using_Softmax_DNN.ipynb\" target=\"_parent\"><img src=\"https://colab.research.google.com/assets/colab-badge.svg\" alt=\"Open In Colab\"/></a>"
      ]
    },
    {
      "cell_type": "markdown",
      "source": [
        "**loading the libraries**"
      ],
      "metadata": {
        "id": "PRaN6uiAVGRn"
      }
    },
    {
      "cell_type": "code",
      "execution_count": 2,
      "metadata": {
        "id": "265f7Yt_U2z_"
      },
      "outputs": [],
      "source": [
        "import os\n",
        "import numpy as np\n",
        "import pandas as pd\n",
        "import matplotlib.pyplot as plt\n",
        "from sklearn.model_selection import train_test_split\n",
        "from sklearn.preprocessing import LabelEncoder"
      ]
    },
    {
      "cell_type": "code",
      "source": [
        "import tensorflow as tf\n",
        "import keras\n",
        "from pprint import pprint"
      ],
      "metadata": {
        "id": "66kIr9bQVcf9"
      },
      "execution_count": 3,
      "outputs": []
    },
    {
      "cell_type": "code",
      "source": [
        "DATASET_LINK='http://files.grouplens.org/datasets/movielens/ml-100k.zip'"
      ],
      "metadata": {
        "id": "D0GZIU6wVplL"
      },
      "execution_count": 4,
      "outputs": []
    },
    {
      "cell_type": "code",
      "source": [
        "!wget -nc http://files.grouplens.org/datasets/movielens/ml-100k.zip\n",
        "!unzip -n ml-100k.zip"
      ],
      "metadata": {
        "colab": {
          "base_uri": "https://localhost:8080/"
        },
        "id": "dQPoVwahVqYJ",
        "outputId": "08aa54cf-07ef-4c24-fd68-656567fc0b2a"
      },
      "execution_count": 5,
      "outputs": [
        {
          "output_type": "stream",
          "name": "stdout",
          "text": [
            "--2022-12-30 19:15:50--  http://files.grouplens.org/datasets/movielens/ml-100k.zip\n",
            "Resolving files.grouplens.org (files.grouplens.org)... 128.101.65.152\n",
            "Connecting to files.grouplens.org (files.grouplens.org)|128.101.65.152|:80... connected.\n",
            "HTTP request sent, awaiting response... 200 OK\n",
            "Length: 4924029 (4.7M) [application/zip]\n",
            "Saving to: ‘ml-100k.zip’\n",
            "\n",
            "ml-100k.zip         100%[===================>]   4.70M  16.4MB/s    in 0.3s    \n",
            "\n",
            "2022-12-30 19:15:51 (16.4 MB/s) - ‘ml-100k.zip’ saved [4924029/4924029]\n",
            "\n",
            "Archive:  ml-100k.zip\n",
            "   creating: ml-100k/\n",
            "  inflating: ml-100k/allbut.pl       \n",
            "  inflating: ml-100k/mku.sh          \n",
            "  inflating: ml-100k/README          \n",
            "  inflating: ml-100k/u.data          \n",
            "  inflating: ml-100k/u.genre         \n",
            "  inflating: ml-100k/u.info          \n",
            "  inflating: ml-100k/u.item          \n",
            "  inflating: ml-100k/u.occupation    \n",
            "  inflating: ml-100k/u.user          \n",
            "  inflating: ml-100k/u1.base         \n",
            "  inflating: ml-100k/u1.test         \n",
            "  inflating: ml-100k/u2.base         \n",
            "  inflating: ml-100k/u2.test         \n",
            "  inflating: ml-100k/u3.base         \n",
            "  inflating: ml-100k/u3.test         \n",
            "  inflating: ml-100k/u4.base         \n",
            "  inflating: ml-100k/u4.test         \n",
            "  inflating: ml-100k/u5.base         \n",
            "  inflating: ml-100k/u5.test         \n",
            "  inflating: ml-100k/ua.base         \n",
            "  inflating: ml-100k/ua.test         \n",
            "  inflating: ml-100k/ub.base         \n",
            "  inflating: ml-100k/ub.test         \n"
          ]
        }
      ]
    },
    {
      "cell_type": "markdown",
      "source": [
        "**loading MovieLens dataset**"
      ],
      "metadata": {
        "id": "yhzR5XdcV00X"
      }
    },
    {
      "cell_type": "code",
      "source": [
        "overall_stats = pd.read_csv('ml-100k/u.info', header=None)\n",
        "print(\"details of users, items and ratings involved in the loaded movielens dataset: \",list(overall_stats[0]))"
      ],
      "metadata": {
        "colab": {
          "base_uri": "https://localhost:8080/"
        },
        "id": "tzt86ByIVzo0",
        "outputId": "37b6f638-090d-410e-9957-b95db701c4c6"
      },
      "execution_count": 6,
      "outputs": [
        {
          "output_type": "stream",
          "name": "stdout",
          "text": [
            "details of users, items and ratings involved in the loaded movielens dataset:  ['943 users', '1682 items', '100000 ratings']\n"
          ]
        }
      ]
    },
    {
      "cell_type": "markdown",
      "source": [
        "we see 100000 ratings by 943 users on 1682 items.\n",
        "\n",
        "each user has rated at least 20 movies.  Users and items are numbered consecutively from 1and also the data is randomly ordered\n",
        "\n",
        "    list of \n",
        "     user id | item id | rating |timestamp"
      ],
      "metadata": {
        "id": "Ghh3n4LcV9zb"
      }
    },
    {
      "cell_type": "markdown",
      "source": [
        "renaming item id column as movie id as they are the same."
      ],
      "metadata": {
        "id": "2D5rKQUgWNHL"
      }
    },
    {
      "cell_type": "code",
      "source": [
        "column_names1 = ['user id','movie id','rating','timestamp']\n",
        "ratings_dataset = pd.read_csv('ml-100k/u.data', sep='\\t',header=None,names=column_names1)\n",
        "ratings_dataset.head() "
      ],
      "metadata": {
        "colab": {
          "base_uri": "https://localhost:8080/",
          "height": 206
        },
        "id": "VJv6B4Z_WSTI",
        "outputId": "beab5fab-f15f-4dd6-aa27-072f806c69a3"
      },
      "execution_count": 7,
      "outputs": [
        {
          "output_type": "execute_result",
          "data": {
            "text/plain": [
              "   user id  movie id  rating  timestamp\n",
              "0      196       242       3  881250949\n",
              "1      186       302       3  891717742\n",
              "2       22       377       1  878887116\n",
              "3      244        51       2  880606923\n",
              "4      166       346       1  886397596"
            ],
            "text/html": [
              "\n",
              "  <div id=\"df-c4eaa7c3-d389-44ac-8676-23501d37e7b6\">\n",
              "    <div class=\"colab-df-container\">\n",
              "      <div>\n",
              "<style scoped>\n",
              "    .dataframe tbody tr th:only-of-type {\n",
              "        vertical-align: middle;\n",
              "    }\n",
              "\n",
              "    .dataframe tbody tr th {\n",
              "        vertical-align: top;\n",
              "    }\n",
              "\n",
              "    .dataframe thead th {\n",
              "        text-align: right;\n",
              "    }\n",
              "</style>\n",
              "<table border=\"1\" class=\"dataframe\">\n",
              "  <thead>\n",
              "    <tr style=\"text-align: right;\">\n",
              "      <th></th>\n",
              "      <th>user id</th>\n",
              "      <th>movie id</th>\n",
              "      <th>rating</th>\n",
              "      <th>timestamp</th>\n",
              "    </tr>\n",
              "  </thead>\n",
              "  <tbody>\n",
              "    <tr>\n",
              "      <th>0</th>\n",
              "      <td>196</td>\n",
              "      <td>242</td>\n",
              "      <td>3</td>\n",
              "      <td>881250949</td>\n",
              "    </tr>\n",
              "    <tr>\n",
              "      <th>1</th>\n",
              "      <td>186</td>\n",
              "      <td>302</td>\n",
              "      <td>3</td>\n",
              "      <td>891717742</td>\n",
              "    </tr>\n",
              "    <tr>\n",
              "      <th>2</th>\n",
              "      <td>22</td>\n",
              "      <td>377</td>\n",
              "      <td>1</td>\n",
              "      <td>878887116</td>\n",
              "    </tr>\n",
              "    <tr>\n",
              "      <th>3</th>\n",
              "      <td>244</td>\n",
              "      <td>51</td>\n",
              "      <td>2</td>\n",
              "      <td>880606923</td>\n",
              "    </tr>\n",
              "    <tr>\n",
              "      <th>4</th>\n",
              "      <td>166</td>\n",
              "      <td>346</td>\n",
              "      <td>1</td>\n",
              "      <td>886397596</td>\n",
              "    </tr>\n",
              "  </tbody>\n",
              "</table>\n",
              "</div>\n",
              "      <button class=\"colab-df-convert\" onclick=\"convertToInteractive('df-c4eaa7c3-d389-44ac-8676-23501d37e7b6')\"\n",
              "              title=\"Convert this dataframe to an interactive table.\"\n",
              "              style=\"display:none;\">\n",
              "        \n",
              "  <svg xmlns=\"http://www.w3.org/2000/svg\" height=\"24px\"viewBox=\"0 0 24 24\"\n",
              "       width=\"24px\">\n",
              "    <path d=\"M0 0h24v24H0V0z\" fill=\"none\"/>\n",
              "    <path d=\"M18.56 5.44l.94 2.06.94-2.06 2.06-.94-2.06-.94-.94-2.06-.94 2.06-2.06.94zm-11 1L8.5 8.5l.94-2.06 2.06-.94-2.06-.94L8.5 2.5l-.94 2.06-2.06.94zm10 10l.94 2.06.94-2.06 2.06-.94-2.06-.94-.94-2.06-.94 2.06-2.06.94z\"/><path d=\"M17.41 7.96l-1.37-1.37c-.4-.4-.92-.59-1.43-.59-.52 0-1.04.2-1.43.59L10.3 9.45l-7.72 7.72c-.78.78-.78 2.05 0 2.83L4 21.41c.39.39.9.59 1.41.59.51 0 1.02-.2 1.41-.59l7.78-7.78 2.81-2.81c.8-.78.8-2.07 0-2.86zM5.41 20L4 18.59l7.72-7.72 1.47 1.35L5.41 20z\"/>\n",
              "  </svg>\n",
              "      </button>\n",
              "      \n",
              "  <style>\n",
              "    .colab-df-container {\n",
              "      display:flex;\n",
              "      flex-wrap:wrap;\n",
              "      gap: 12px;\n",
              "    }\n",
              "\n",
              "    .colab-df-convert {\n",
              "      background-color: #E8F0FE;\n",
              "      border: none;\n",
              "      border-radius: 50%;\n",
              "      cursor: pointer;\n",
              "      display: none;\n",
              "      fill: #1967D2;\n",
              "      height: 32px;\n",
              "      padding: 0 0 0 0;\n",
              "      width: 32px;\n",
              "    }\n",
              "\n",
              "    .colab-df-convert:hover {\n",
              "      background-color: #E2EBFA;\n",
              "      box-shadow: 0px 1px 2px rgba(60, 64, 67, 0.3), 0px 1px 3px 1px rgba(60, 64, 67, 0.15);\n",
              "      fill: #174EA6;\n",
              "    }\n",
              "\n",
              "    [theme=dark] .colab-df-convert {\n",
              "      background-color: #3B4455;\n",
              "      fill: #D2E3FC;\n",
              "    }\n",
              "\n",
              "    [theme=dark] .colab-df-convert:hover {\n",
              "      background-color: #434B5C;\n",
              "      box-shadow: 0px 1px 3px 1px rgba(0, 0, 0, 0.15);\n",
              "      filter: drop-shadow(0px 1px 2px rgba(0, 0, 0, 0.3));\n",
              "      fill: #FFFFFF;\n",
              "    }\n",
              "  </style>\n",
              "\n",
              "      <script>\n",
              "        const buttonEl =\n",
              "          document.querySelector('#df-c4eaa7c3-d389-44ac-8676-23501d37e7b6 button.colab-df-convert');\n",
              "        buttonEl.style.display =\n",
              "          google.colab.kernel.accessAllowed ? 'block' : 'none';\n",
              "\n",
              "        async function convertToInteractive(key) {\n",
              "          const element = document.querySelector('#df-c4eaa7c3-d389-44ac-8676-23501d37e7b6');\n",
              "          const dataTable =\n",
              "            await google.colab.kernel.invokeFunction('convertToInteractive',\n",
              "                                                     [key], {});\n",
              "          if (!dataTable) return;\n",
              "\n",
              "          const docLinkHtml = 'Like what you see? Visit the ' +\n",
              "            '<a target=\"_blank\" href=https://colab.research.google.com/notebooks/data_table.ipynb>data table notebook</a>'\n",
              "            + ' to learn more about interactive tables.';\n",
              "          element.innerHTML = '';\n",
              "          dataTable['output_type'] = 'display_data';\n",
              "          await google.colab.output.renderOutput(dataTable, element);\n",
              "          const docLink = document.createElement('div');\n",
              "          docLink.innerHTML = docLinkHtml;\n",
              "          element.appendChild(docLink);\n",
              "        }\n",
              "      </script>\n",
              "    </div>\n",
              "  </div>\n",
              "  "
            ]
          },
          "metadata": {},
          "execution_count": 7
        }
      ]
    },
    {
      "cell_type": "markdown",
      "source": [
        "    list of\n",
        "          movie id | movie title | release date | video release date |\n",
        "          IMDb URL | unknown | Action | Adventure | Animation |\n",
        "          Children's | Comedy | Crime | Documentary | Drama | Fantasy |\n",
        "          Film-Noir | Horror | Musical | Mystery | Romance | Sci-Fi |\n",
        "          Thriller | War | Western |\n",
        "\n",
        "\n",
        "last 19 fields are the genres, \n",
        "1 indicates the movie is of that genre, 0 indicates it is not and movies can be in several genres at once."
      ],
      "metadata": {
        "id": "8SwqMUJMWY9t"
      }
    },
    {
      "cell_type": "code",
      "source": [
        "d = 'movie id | movie title | release date | video release date | IMDb URL | unknown | Action | Adventure | Animation | Children | Comedy | Crime | Documentary | Drama | Fantasy | Film-Noir | Horror | Musical | Mystery | Romance | Sci-Fi | Thriller | War | Western'\n",
        "column_names2 = d.split(' | ')\n",
        "print(column_names2)"
      ],
      "metadata": {
        "colab": {
          "base_uri": "https://localhost:8080/"
        },
        "id": "lnmYx1ooWlGm",
        "outputId": "f08f7d50-85a1-4f93-a65f-4bef85428470"
      },
      "execution_count": 8,
      "outputs": [
        {
          "output_type": "stream",
          "name": "stdout",
          "text": [
            "['movie id', 'movie title', 'release date', 'video release date', 'IMDb URL', 'unknown', 'Action', 'Adventure', 'Animation', 'Children', 'Comedy', 'Crime', 'Documentary', 'Drama', 'Fantasy', 'Film-Noir', 'Horror', 'Musical', 'Mystery', 'Romance', 'Sci-Fi', 'Thriller', 'War', 'Western']\n"
          ]
        }
      ]
    },
    {
      "cell_type": "code",
      "source": [
        "items_dataset = pd.read_csv('ml-100k/u.item', sep='|',header=None,names=column_names2,encoding='latin-1')\n",
        "items_dataset.head()"
      ],
      "metadata": {
        "colab": {
          "base_uri": "https://localhost:8080/",
          "height": 456
        },
        "id": "yllbq34LWrd2",
        "outputId": "802622c8-5503-480a-8bff-a36719c7a39c"
      },
      "execution_count": 9,
      "outputs": [
        {
          "output_type": "execute_result",
          "data": {
            "text/plain": [
              "   movie id        movie title release date  video release date  \\\n",
              "0         1   Toy Story (1995)  01-Jan-1995                 NaN   \n",
              "1         2   GoldenEye (1995)  01-Jan-1995                 NaN   \n",
              "2         3  Four Rooms (1995)  01-Jan-1995                 NaN   \n",
              "3         4  Get Shorty (1995)  01-Jan-1995                 NaN   \n",
              "4         5     Copycat (1995)  01-Jan-1995                 NaN   \n",
              "\n",
              "                                            IMDb URL  unknown  Action  \\\n",
              "0  http://us.imdb.com/M/title-exact?Toy%20Story%2...        0       0   \n",
              "1  http://us.imdb.com/M/title-exact?GoldenEye%20(...        0       1   \n",
              "2  http://us.imdb.com/M/title-exact?Four%20Rooms%...        0       0   \n",
              "3  http://us.imdb.com/M/title-exact?Get%20Shorty%...        0       1   \n",
              "4  http://us.imdb.com/M/title-exact?Copycat%20(1995)        0       0   \n",
              "\n",
              "   Adventure  Animation  Children  ...  Fantasy  Film-Noir  Horror  Musical  \\\n",
              "0          0          1         1  ...        0          0       0        0   \n",
              "1          1          0         0  ...        0          0       0        0   \n",
              "2          0          0         0  ...        0          0       0        0   \n",
              "3          0          0         0  ...        0          0       0        0   \n",
              "4          0          0         0  ...        0          0       0        0   \n",
              "\n",
              "   Mystery  Romance  Sci-Fi  Thriller  War  Western  \n",
              "0        0        0       0         0    0        0  \n",
              "1        0        0       0         1    0        0  \n",
              "2        0        0       0         1    0        0  \n",
              "3        0        0       0         0    0        0  \n",
              "4        0        0       0         1    0        0  \n",
              "\n",
              "[5 rows x 24 columns]"
            ],
            "text/html": [
              "\n",
              "  <div id=\"df-f282cecc-50c3-452a-ba2c-af0cb56a0344\">\n",
              "    <div class=\"colab-df-container\">\n",
              "      <div>\n",
              "<style scoped>\n",
              "    .dataframe tbody tr th:only-of-type {\n",
              "        vertical-align: middle;\n",
              "    }\n",
              "\n",
              "    .dataframe tbody tr th {\n",
              "        vertical-align: top;\n",
              "    }\n",
              "\n",
              "    .dataframe thead th {\n",
              "        text-align: right;\n",
              "    }\n",
              "</style>\n",
              "<table border=\"1\" class=\"dataframe\">\n",
              "  <thead>\n",
              "    <tr style=\"text-align: right;\">\n",
              "      <th></th>\n",
              "      <th>movie id</th>\n",
              "      <th>movie title</th>\n",
              "      <th>release date</th>\n",
              "      <th>video release date</th>\n",
              "      <th>IMDb URL</th>\n",
              "      <th>unknown</th>\n",
              "      <th>Action</th>\n",
              "      <th>Adventure</th>\n",
              "      <th>Animation</th>\n",
              "      <th>Children</th>\n",
              "      <th>...</th>\n",
              "      <th>Fantasy</th>\n",
              "      <th>Film-Noir</th>\n",
              "      <th>Horror</th>\n",
              "      <th>Musical</th>\n",
              "      <th>Mystery</th>\n",
              "      <th>Romance</th>\n",
              "      <th>Sci-Fi</th>\n",
              "      <th>Thriller</th>\n",
              "      <th>War</th>\n",
              "      <th>Western</th>\n",
              "    </tr>\n",
              "  </thead>\n",
              "  <tbody>\n",
              "    <tr>\n",
              "      <th>0</th>\n",
              "      <td>1</td>\n",
              "      <td>Toy Story (1995)</td>\n",
              "      <td>01-Jan-1995</td>\n",
              "      <td>NaN</td>\n",
              "      <td>http://us.imdb.com/M/title-exact?Toy%20Story%2...</td>\n",
              "      <td>0</td>\n",
              "      <td>0</td>\n",
              "      <td>0</td>\n",
              "      <td>1</td>\n",
              "      <td>1</td>\n",
              "      <td>...</td>\n",
              "      <td>0</td>\n",
              "      <td>0</td>\n",
              "      <td>0</td>\n",
              "      <td>0</td>\n",
              "      <td>0</td>\n",
              "      <td>0</td>\n",
              "      <td>0</td>\n",
              "      <td>0</td>\n",
              "      <td>0</td>\n",
              "      <td>0</td>\n",
              "    </tr>\n",
              "    <tr>\n",
              "      <th>1</th>\n",
              "      <td>2</td>\n",
              "      <td>GoldenEye (1995)</td>\n",
              "      <td>01-Jan-1995</td>\n",
              "      <td>NaN</td>\n",
              "      <td>http://us.imdb.com/M/title-exact?GoldenEye%20(...</td>\n",
              "      <td>0</td>\n",
              "      <td>1</td>\n",
              "      <td>1</td>\n",
              "      <td>0</td>\n",
              "      <td>0</td>\n",
              "      <td>...</td>\n",
              "      <td>0</td>\n",
              "      <td>0</td>\n",
              "      <td>0</td>\n",
              "      <td>0</td>\n",
              "      <td>0</td>\n",
              "      <td>0</td>\n",
              "      <td>0</td>\n",
              "      <td>1</td>\n",
              "      <td>0</td>\n",
              "      <td>0</td>\n",
              "    </tr>\n",
              "    <tr>\n",
              "      <th>2</th>\n",
              "      <td>3</td>\n",
              "      <td>Four Rooms (1995)</td>\n",
              "      <td>01-Jan-1995</td>\n",
              "      <td>NaN</td>\n",
              "      <td>http://us.imdb.com/M/title-exact?Four%20Rooms%...</td>\n",
              "      <td>0</td>\n",
              "      <td>0</td>\n",
              "      <td>0</td>\n",
              "      <td>0</td>\n",
              "      <td>0</td>\n",
              "      <td>...</td>\n",
              "      <td>0</td>\n",
              "      <td>0</td>\n",
              "      <td>0</td>\n",
              "      <td>0</td>\n",
              "      <td>0</td>\n",
              "      <td>0</td>\n",
              "      <td>0</td>\n",
              "      <td>1</td>\n",
              "      <td>0</td>\n",
              "      <td>0</td>\n",
              "    </tr>\n",
              "    <tr>\n",
              "      <th>3</th>\n",
              "      <td>4</td>\n",
              "      <td>Get Shorty (1995)</td>\n",
              "      <td>01-Jan-1995</td>\n",
              "      <td>NaN</td>\n",
              "      <td>http://us.imdb.com/M/title-exact?Get%20Shorty%...</td>\n",
              "      <td>0</td>\n",
              "      <td>1</td>\n",
              "      <td>0</td>\n",
              "      <td>0</td>\n",
              "      <td>0</td>\n",
              "      <td>...</td>\n",
              "      <td>0</td>\n",
              "      <td>0</td>\n",
              "      <td>0</td>\n",
              "      <td>0</td>\n",
              "      <td>0</td>\n",
              "      <td>0</td>\n",
              "      <td>0</td>\n",
              "      <td>0</td>\n",
              "      <td>0</td>\n",
              "      <td>0</td>\n",
              "    </tr>\n",
              "    <tr>\n",
              "      <th>4</th>\n",
              "      <td>5</td>\n",
              "      <td>Copycat (1995)</td>\n",
              "      <td>01-Jan-1995</td>\n",
              "      <td>NaN</td>\n",
              "      <td>http://us.imdb.com/M/title-exact?Copycat%20(1995)</td>\n",
              "      <td>0</td>\n",
              "      <td>0</td>\n",
              "      <td>0</td>\n",
              "      <td>0</td>\n",
              "      <td>0</td>\n",
              "      <td>...</td>\n",
              "      <td>0</td>\n",
              "      <td>0</td>\n",
              "      <td>0</td>\n",
              "      <td>0</td>\n",
              "      <td>0</td>\n",
              "      <td>0</td>\n",
              "      <td>0</td>\n",
              "      <td>1</td>\n",
              "      <td>0</td>\n",
              "      <td>0</td>\n",
              "    </tr>\n",
              "  </tbody>\n",
              "</table>\n",
              "<p>5 rows × 24 columns</p>\n",
              "</div>\n",
              "      <button class=\"colab-df-convert\" onclick=\"convertToInteractive('df-f282cecc-50c3-452a-ba2c-af0cb56a0344')\"\n",
              "              title=\"Convert this dataframe to an interactive table.\"\n",
              "              style=\"display:none;\">\n",
              "        \n",
              "  <svg xmlns=\"http://www.w3.org/2000/svg\" height=\"24px\"viewBox=\"0 0 24 24\"\n",
              "       width=\"24px\">\n",
              "    <path d=\"M0 0h24v24H0V0z\" fill=\"none\"/>\n",
              "    <path d=\"M18.56 5.44l.94 2.06.94-2.06 2.06-.94-2.06-.94-.94-2.06-.94 2.06-2.06.94zm-11 1L8.5 8.5l.94-2.06 2.06-.94-2.06-.94L8.5 2.5l-.94 2.06-2.06.94zm10 10l.94 2.06.94-2.06 2.06-.94-2.06-.94-.94-2.06-.94 2.06-2.06.94z\"/><path d=\"M17.41 7.96l-1.37-1.37c-.4-.4-.92-.59-1.43-.59-.52 0-1.04.2-1.43.59L10.3 9.45l-7.72 7.72c-.78.78-.78 2.05 0 2.83L4 21.41c.39.39.9.59 1.41.59.51 0 1.02-.2 1.41-.59l7.78-7.78 2.81-2.81c.8-.78.8-2.07 0-2.86zM5.41 20L4 18.59l7.72-7.72 1.47 1.35L5.41 20z\"/>\n",
              "  </svg>\n",
              "      </button>\n",
              "      \n",
              "  <style>\n",
              "    .colab-df-container {\n",
              "      display:flex;\n",
              "      flex-wrap:wrap;\n",
              "      gap: 12px;\n",
              "    }\n",
              "\n",
              "    .colab-df-convert {\n",
              "      background-color: #E8F0FE;\n",
              "      border: none;\n",
              "      border-radius: 50%;\n",
              "      cursor: pointer;\n",
              "      display: none;\n",
              "      fill: #1967D2;\n",
              "      height: 32px;\n",
              "      padding: 0 0 0 0;\n",
              "      width: 32px;\n",
              "    }\n",
              "\n",
              "    .colab-df-convert:hover {\n",
              "      background-color: #E2EBFA;\n",
              "      box-shadow: 0px 1px 2px rgba(60, 64, 67, 0.3), 0px 1px 3px 1px rgba(60, 64, 67, 0.15);\n",
              "      fill: #174EA6;\n",
              "    }\n",
              "\n",
              "    [theme=dark] .colab-df-convert {\n",
              "      background-color: #3B4455;\n",
              "      fill: #D2E3FC;\n",
              "    }\n",
              "\n",
              "    [theme=dark] .colab-df-convert:hover {\n",
              "      background-color: #434B5C;\n",
              "      box-shadow: 0px 1px 3px 1px rgba(0, 0, 0, 0.15);\n",
              "      filter: drop-shadow(0px 1px 2px rgba(0, 0, 0, 0.3));\n",
              "      fill: #FFFFFF;\n",
              "    }\n",
              "  </style>\n",
              "\n",
              "      <script>\n",
              "        const buttonEl =\n",
              "          document.querySelector('#df-f282cecc-50c3-452a-ba2c-af0cb56a0344 button.colab-df-convert');\n",
              "        buttonEl.style.display =\n",
              "          google.colab.kernel.accessAllowed ? 'block' : 'none';\n",
              "\n",
              "        async function convertToInteractive(key) {\n",
              "          const element = document.querySelector('#df-f282cecc-50c3-452a-ba2c-af0cb56a0344');\n",
              "          const dataTable =\n",
              "            await google.colab.kernel.invokeFunction('convertToInteractive',\n",
              "                                                     [key], {});\n",
              "          if (!dataTable) return;\n",
              "\n",
              "          const docLinkHtml = 'Like what you see? Visit the ' +\n",
              "            '<a target=\"_blank\" href=https://colab.research.google.com/notebooks/data_table.ipynb>data table notebook</a>'\n",
              "            + ' to learn more about interactive tables.';\n",
              "          element.innerHTML = '';\n",
              "          dataTable['output_type'] = 'display_data';\n",
              "          await google.colab.output.renderOutput(dataTable, element);\n",
              "          const docLink = document.createElement('div');\n",
              "          docLink.innerHTML = docLinkHtml;\n",
              "          element.appendChild(docLink);\n",
              "        }\n",
              "      </script>\n",
              "    </div>\n",
              "  </div>\n",
              "  "
            ]
          },
          "metadata": {},
          "execution_count": 9
        }
      ]
    },
    {
      "cell_type": "code",
      "source": [
        "movie_dataset = items_dataset[['movie id','movie title']]\n",
        "movie_dataset.head()"
      ],
      "metadata": {
        "colab": {
          "base_uri": "https://localhost:8080/",
          "height": 206
        },
        "id": "op5FVfGPWugq",
        "outputId": "c379bc00-cbce-47c0-f1e2-f9e811507438"
      },
      "execution_count": 10,
      "outputs": [
        {
          "output_type": "execute_result",
          "data": {
            "text/plain": [
              "   movie id        movie title\n",
              "0         1   Toy Story (1995)\n",
              "1         2   GoldenEye (1995)\n",
              "2         3  Four Rooms (1995)\n",
              "3         4  Get Shorty (1995)\n",
              "4         5     Copycat (1995)"
            ],
            "text/html": [
              "\n",
              "  <div id=\"df-a7b73c6e-1446-4c61-bdfd-9bd057e91d9f\">\n",
              "    <div class=\"colab-df-container\">\n",
              "      <div>\n",
              "<style scoped>\n",
              "    .dataframe tbody tr th:only-of-type {\n",
              "        vertical-align: middle;\n",
              "    }\n",
              "\n",
              "    .dataframe tbody tr th {\n",
              "        vertical-align: top;\n",
              "    }\n",
              "\n",
              "    .dataframe thead th {\n",
              "        text-align: right;\n",
              "    }\n",
              "</style>\n",
              "<table border=\"1\" class=\"dataframe\">\n",
              "  <thead>\n",
              "    <tr style=\"text-align: right;\">\n",
              "      <th></th>\n",
              "      <th>movie id</th>\n",
              "      <th>movie title</th>\n",
              "    </tr>\n",
              "  </thead>\n",
              "  <tbody>\n",
              "    <tr>\n",
              "      <th>0</th>\n",
              "      <td>1</td>\n",
              "      <td>Toy Story (1995)</td>\n",
              "    </tr>\n",
              "    <tr>\n",
              "      <th>1</th>\n",
              "      <td>2</td>\n",
              "      <td>GoldenEye (1995)</td>\n",
              "    </tr>\n",
              "    <tr>\n",
              "      <th>2</th>\n",
              "      <td>3</td>\n",
              "      <td>Four Rooms (1995)</td>\n",
              "    </tr>\n",
              "    <tr>\n",
              "      <th>3</th>\n",
              "      <td>4</td>\n",
              "      <td>Get Shorty (1995)</td>\n",
              "    </tr>\n",
              "    <tr>\n",
              "      <th>4</th>\n",
              "      <td>5</td>\n",
              "      <td>Copycat (1995)</td>\n",
              "    </tr>\n",
              "  </tbody>\n",
              "</table>\n",
              "</div>\n",
              "      <button class=\"colab-df-convert\" onclick=\"convertToInteractive('df-a7b73c6e-1446-4c61-bdfd-9bd057e91d9f')\"\n",
              "              title=\"Convert this dataframe to an interactive table.\"\n",
              "              style=\"display:none;\">\n",
              "        \n",
              "  <svg xmlns=\"http://www.w3.org/2000/svg\" height=\"24px\"viewBox=\"0 0 24 24\"\n",
              "       width=\"24px\">\n",
              "    <path d=\"M0 0h24v24H0V0z\" fill=\"none\"/>\n",
              "    <path d=\"M18.56 5.44l.94 2.06.94-2.06 2.06-.94-2.06-.94-.94-2.06-.94 2.06-2.06.94zm-11 1L8.5 8.5l.94-2.06 2.06-.94-2.06-.94L8.5 2.5l-.94 2.06-2.06.94zm10 10l.94 2.06.94-2.06 2.06-.94-2.06-.94-.94-2.06-.94 2.06-2.06.94z\"/><path d=\"M17.41 7.96l-1.37-1.37c-.4-.4-.92-.59-1.43-.59-.52 0-1.04.2-1.43.59L10.3 9.45l-7.72 7.72c-.78.78-.78 2.05 0 2.83L4 21.41c.39.39.9.59 1.41.59.51 0 1.02-.2 1.41-.59l7.78-7.78 2.81-2.81c.8-.78.8-2.07 0-2.86zM5.41 20L4 18.59l7.72-7.72 1.47 1.35L5.41 20z\"/>\n",
              "  </svg>\n",
              "      </button>\n",
              "      \n",
              "  <style>\n",
              "    .colab-df-container {\n",
              "      display:flex;\n",
              "      flex-wrap:wrap;\n",
              "      gap: 12px;\n",
              "    }\n",
              "\n",
              "    .colab-df-convert {\n",
              "      background-color: #E8F0FE;\n",
              "      border: none;\n",
              "      border-radius: 50%;\n",
              "      cursor: pointer;\n",
              "      display: none;\n",
              "      fill: #1967D2;\n",
              "      height: 32px;\n",
              "      padding: 0 0 0 0;\n",
              "      width: 32px;\n",
              "    }\n",
              "\n",
              "    .colab-df-convert:hover {\n",
              "      background-color: #E2EBFA;\n",
              "      box-shadow: 0px 1px 2px rgba(60, 64, 67, 0.3), 0px 1px 3px 1px rgba(60, 64, 67, 0.15);\n",
              "      fill: #174EA6;\n",
              "    }\n",
              "\n",
              "    [theme=dark] .colab-df-convert {\n",
              "      background-color: #3B4455;\n",
              "      fill: #D2E3FC;\n",
              "    }\n",
              "\n",
              "    [theme=dark] .colab-df-convert:hover {\n",
              "      background-color: #434B5C;\n",
              "      box-shadow: 0px 1px 3px 1px rgba(0, 0, 0, 0.15);\n",
              "      filter: drop-shadow(0px 1px 2px rgba(0, 0, 0, 0.3));\n",
              "      fill: #FFFFFF;\n",
              "    }\n",
              "  </style>\n",
              "\n",
              "      <script>\n",
              "        const buttonEl =\n",
              "          document.querySelector('#df-a7b73c6e-1446-4c61-bdfd-9bd057e91d9f button.colab-df-convert');\n",
              "        buttonEl.style.display =\n",
              "          google.colab.kernel.accessAllowed ? 'block' : 'none';\n",
              "\n",
              "        async function convertToInteractive(key) {\n",
              "          const element = document.querySelector('#df-a7b73c6e-1446-4c61-bdfd-9bd057e91d9f');\n",
              "          const dataTable =\n",
              "            await google.colab.kernel.invokeFunction('convertToInteractive',\n",
              "                                                     [key], {});\n",
              "          if (!dataTable) return;\n",
              "\n",
              "          const docLinkHtml = 'Like what you see? Visit the ' +\n",
              "            '<a target=\"_blank\" href=https://colab.research.google.com/notebooks/data_table.ipynb>data table notebook</a>'\n",
              "            + ' to learn more about interactive tables.';\n",
              "          element.innerHTML = '';\n",
              "          dataTable['output_type'] = 'display_data';\n",
              "          await google.colab.output.renderOutput(dataTable, element);\n",
              "          const docLink = document.createElement('div');\n",
              "          docLink.innerHTML = docLinkHtml;\n",
              "          element.appendChild(docLink);\n",
              "        }\n",
              "      </script>\n",
              "    </div>\n",
              "  </div>\n",
              "  "
            ]
          },
          "metadata": {},
          "execution_count": 10
        }
      ]
    },
    {
      "cell_type": "markdown",
      "source": [
        "length of the original items_Dataset and the length of unique combination of rows in items_dataset after removing of movie id column."
      ],
      "metadata": {
        "id": "z0T-R6V3WwoC"
      }
    },
    {
      "cell_type": "code",
      "source": [
        "len(items_dataset.groupby(by=column_names2[1:])),len(items_dataset)"
      ],
      "metadata": {
        "colab": {
          "base_uri": "https://localhost:8080/"
        },
        "id": "cOWhl_f6W8TA",
        "outputId": "5d70ac3c-32a0-48fd-a9c4-35050d341052"
      },
      "execution_count": 11,
      "outputs": [
        {
          "output_type": "execute_result",
          "data": {
            "text/plain": [
              "(1664, 1682)"
            ]
          },
          "metadata": {},
          "execution_count": 11
        }
      ]
    },
    {
      "cell_type": "markdown",
      "source": [
        "**merging required datasets**"
      ],
      "metadata": {
        "id": "RyjTFSj0XAtf"
      }
    },
    {
      "cell_type": "code",
      "source": [
        "merged_dataset = pd.merge(ratings_dataset, movie_dataset, how='inner', on='movie id')\n",
        "merged_dataset.head()"
      ],
      "metadata": {
        "colab": {
          "base_uri": "https://localhost:8080/",
          "height": 206
        },
        "id": "7GiPf_seXDW0",
        "outputId": "969fee44-fc50-4b7e-c9b6-fb03a7dd701c"
      },
      "execution_count": 12,
      "outputs": [
        {
          "output_type": "execute_result",
          "data": {
            "text/plain": [
              "   user id  movie id  rating  timestamp   movie title\n",
              "0      196       242       3  881250949  Kolya (1996)\n",
              "1       63       242       3  875747190  Kolya (1996)\n",
              "2      226       242       5  883888671  Kolya (1996)\n",
              "3      154       242       3  879138235  Kolya (1996)\n",
              "4      306       242       5  876503793  Kolya (1996)"
            ],
            "text/html": [
              "\n",
              "  <div id=\"df-ef532cfc-a6ea-46b5-b7d2-9bfed9c85011\">\n",
              "    <div class=\"colab-df-container\">\n",
              "      <div>\n",
              "<style scoped>\n",
              "    .dataframe tbody tr th:only-of-type {\n",
              "        vertical-align: middle;\n",
              "    }\n",
              "\n",
              "    .dataframe tbody tr th {\n",
              "        vertical-align: top;\n",
              "    }\n",
              "\n",
              "    .dataframe thead th {\n",
              "        text-align: right;\n",
              "    }\n",
              "</style>\n",
              "<table border=\"1\" class=\"dataframe\">\n",
              "  <thead>\n",
              "    <tr style=\"text-align: right;\">\n",
              "      <th></th>\n",
              "      <th>user id</th>\n",
              "      <th>movie id</th>\n",
              "      <th>rating</th>\n",
              "      <th>timestamp</th>\n",
              "      <th>movie title</th>\n",
              "    </tr>\n",
              "  </thead>\n",
              "  <tbody>\n",
              "    <tr>\n",
              "      <th>0</th>\n",
              "      <td>196</td>\n",
              "      <td>242</td>\n",
              "      <td>3</td>\n",
              "      <td>881250949</td>\n",
              "      <td>Kolya (1996)</td>\n",
              "    </tr>\n",
              "    <tr>\n",
              "      <th>1</th>\n",
              "      <td>63</td>\n",
              "      <td>242</td>\n",
              "      <td>3</td>\n",
              "      <td>875747190</td>\n",
              "      <td>Kolya (1996)</td>\n",
              "    </tr>\n",
              "    <tr>\n",
              "      <th>2</th>\n",
              "      <td>226</td>\n",
              "      <td>242</td>\n",
              "      <td>5</td>\n",
              "      <td>883888671</td>\n",
              "      <td>Kolya (1996)</td>\n",
              "    </tr>\n",
              "    <tr>\n",
              "      <th>3</th>\n",
              "      <td>154</td>\n",
              "      <td>242</td>\n",
              "      <td>3</td>\n",
              "      <td>879138235</td>\n",
              "      <td>Kolya (1996)</td>\n",
              "    </tr>\n",
              "    <tr>\n",
              "      <th>4</th>\n",
              "      <td>306</td>\n",
              "      <td>242</td>\n",
              "      <td>5</td>\n",
              "      <td>876503793</td>\n",
              "      <td>Kolya (1996)</td>\n",
              "    </tr>\n",
              "  </tbody>\n",
              "</table>\n",
              "</div>\n",
              "      <button class=\"colab-df-convert\" onclick=\"convertToInteractive('df-ef532cfc-a6ea-46b5-b7d2-9bfed9c85011')\"\n",
              "              title=\"Convert this dataframe to an interactive table.\"\n",
              "              style=\"display:none;\">\n",
              "        \n",
              "  <svg xmlns=\"http://www.w3.org/2000/svg\" height=\"24px\"viewBox=\"0 0 24 24\"\n",
              "       width=\"24px\">\n",
              "    <path d=\"M0 0h24v24H0V0z\" fill=\"none\"/>\n",
              "    <path d=\"M18.56 5.44l.94 2.06.94-2.06 2.06-.94-2.06-.94-.94-2.06-.94 2.06-2.06.94zm-11 1L8.5 8.5l.94-2.06 2.06-.94-2.06-.94L8.5 2.5l-.94 2.06-2.06.94zm10 10l.94 2.06.94-2.06 2.06-.94-2.06-.94-.94-2.06-.94 2.06-2.06.94z\"/><path d=\"M17.41 7.96l-1.37-1.37c-.4-.4-.92-.59-1.43-.59-.52 0-1.04.2-1.43.59L10.3 9.45l-7.72 7.72c-.78.78-.78 2.05 0 2.83L4 21.41c.39.39.9.59 1.41.59.51 0 1.02-.2 1.41-.59l7.78-7.78 2.81-2.81c.8-.78.8-2.07 0-2.86zM5.41 20L4 18.59l7.72-7.72 1.47 1.35L5.41 20z\"/>\n",
              "  </svg>\n",
              "      </button>\n",
              "      \n",
              "  <style>\n",
              "    .colab-df-container {\n",
              "      display:flex;\n",
              "      flex-wrap:wrap;\n",
              "      gap: 12px;\n",
              "    }\n",
              "\n",
              "    .colab-df-convert {\n",
              "      background-color: #E8F0FE;\n",
              "      border: none;\n",
              "      border-radius: 50%;\n",
              "      cursor: pointer;\n",
              "      display: none;\n",
              "      fill: #1967D2;\n",
              "      height: 32px;\n",
              "      padding: 0 0 0 0;\n",
              "      width: 32px;\n",
              "    }\n",
              "\n",
              "    .colab-df-convert:hover {\n",
              "      background-color: #E2EBFA;\n",
              "      box-shadow: 0px 1px 2px rgba(60, 64, 67, 0.3), 0px 1px 3px 1px rgba(60, 64, 67, 0.15);\n",
              "      fill: #174EA6;\n",
              "    }\n",
              "\n",
              "    [theme=dark] .colab-df-convert {\n",
              "      background-color: #3B4455;\n",
              "      fill: #D2E3FC;\n",
              "    }\n",
              "\n",
              "    [theme=dark] .colab-df-convert:hover {\n",
              "      background-color: #434B5C;\n",
              "      box-shadow: 0px 1px 3px 1px rgba(0, 0, 0, 0.15);\n",
              "      filter: drop-shadow(0px 1px 2px rgba(0, 0, 0, 0.3));\n",
              "      fill: #FFFFFF;\n",
              "    }\n",
              "  </style>\n",
              "\n",
              "      <script>\n",
              "        const buttonEl =\n",
              "          document.querySelector('#df-ef532cfc-a6ea-46b5-b7d2-9bfed9c85011 button.colab-df-convert');\n",
              "        buttonEl.style.display =\n",
              "          google.colab.kernel.accessAllowed ? 'block' : 'none';\n",
              "\n",
              "        async function convertToInteractive(key) {\n",
              "          const element = document.querySelector('#df-ef532cfc-a6ea-46b5-b7d2-9bfed9c85011');\n",
              "          const dataTable =\n",
              "            await google.colab.kernel.invokeFunction('convertToInteractive',\n",
              "                                                     [key], {});\n",
              "          if (!dataTable) return;\n",
              "\n",
              "          const docLinkHtml = 'Like what you see? Visit the ' +\n",
              "            '<a target=\"_blank\" href=https://colab.research.google.com/notebooks/data_table.ipynb>data table notebook</a>'\n",
              "            + ' to learn more about interactive tables.';\n",
              "          element.innerHTML = '';\n",
              "          dataTable['output_type'] = 'display_data';\n",
              "          await google.colab.output.renderOutput(dataTable, element);\n",
              "          const docLink = document.createElement('div');\n",
              "          docLink.innerHTML = docLinkHtml;\n",
              "          element.appendChild(docLink);\n",
              "        }\n",
              "      </script>\n",
              "    </div>\n",
              "  </div>\n",
              "  "
            ]
          },
          "metadata": {},
          "execution_count": 12
        }
      ]
    },
    {
      "cell_type": "markdown",
      "source": [
        "the above dataset is created from the existing merged dataset by grouping the unique user id and movie title combination and the ratings by a user to the same movie in different instances (timestamps) are averaged and stored in the new dataset."
      ],
      "metadata": {
        "id": "f9F2TB69XIup"
      }
    },
    {
      "cell_type": "markdown",
      "source": [
        "for example : "
      ],
      "metadata": {
        "id": "puJSXODmXQx5"
      }
    },
    {
      "cell_type": "code",
      "source": [
        "merged_dataset[(merged_dataset['movie title'] == 'Chasing Amy (1997)') & (merged_dataset['user id'] == 894)]"
      ],
      "metadata": {
        "colab": {
          "base_uri": "https://localhost:8080/",
          "height": 112
        },
        "id": "aWGEOh2-XScL",
        "outputId": "b114a806-e35b-46e7-cabd-2bc89f41814c"
      },
      "execution_count": 13,
      "outputs": [
        {
          "output_type": "execute_result",
          "data": {
            "text/plain": [
              "       user id  movie id  rating  timestamp         movie title\n",
              "4800       894       246       4  882404137  Chasing Amy (1997)\n",
              "22340      894       268       3  879896041  Chasing Amy (1997)"
            ],
            "text/html": [
              "\n",
              "  <div id=\"df-030c5a81-610c-4b9f-be62-09c808d65b06\">\n",
              "    <div class=\"colab-df-container\">\n",
              "      <div>\n",
              "<style scoped>\n",
              "    .dataframe tbody tr th:only-of-type {\n",
              "        vertical-align: middle;\n",
              "    }\n",
              "\n",
              "    .dataframe tbody tr th {\n",
              "        vertical-align: top;\n",
              "    }\n",
              "\n",
              "    .dataframe thead th {\n",
              "        text-align: right;\n",
              "    }\n",
              "</style>\n",
              "<table border=\"1\" class=\"dataframe\">\n",
              "  <thead>\n",
              "    <tr style=\"text-align: right;\">\n",
              "      <th></th>\n",
              "      <th>user id</th>\n",
              "      <th>movie id</th>\n",
              "      <th>rating</th>\n",
              "      <th>timestamp</th>\n",
              "      <th>movie title</th>\n",
              "    </tr>\n",
              "  </thead>\n",
              "  <tbody>\n",
              "    <tr>\n",
              "      <th>4800</th>\n",
              "      <td>894</td>\n",
              "      <td>246</td>\n",
              "      <td>4</td>\n",
              "      <td>882404137</td>\n",
              "      <td>Chasing Amy (1997)</td>\n",
              "    </tr>\n",
              "    <tr>\n",
              "      <th>22340</th>\n",
              "      <td>894</td>\n",
              "      <td>268</td>\n",
              "      <td>3</td>\n",
              "      <td>879896041</td>\n",
              "      <td>Chasing Amy (1997)</td>\n",
              "    </tr>\n",
              "  </tbody>\n",
              "</table>\n",
              "</div>\n",
              "      <button class=\"colab-df-convert\" onclick=\"convertToInteractive('df-030c5a81-610c-4b9f-be62-09c808d65b06')\"\n",
              "              title=\"Convert this dataframe to an interactive table.\"\n",
              "              style=\"display:none;\">\n",
              "        \n",
              "  <svg xmlns=\"http://www.w3.org/2000/svg\" height=\"24px\"viewBox=\"0 0 24 24\"\n",
              "       width=\"24px\">\n",
              "    <path d=\"M0 0h24v24H0V0z\" fill=\"none\"/>\n",
              "    <path d=\"M18.56 5.44l.94 2.06.94-2.06 2.06-.94-2.06-.94-.94-2.06-.94 2.06-2.06.94zm-11 1L8.5 8.5l.94-2.06 2.06-.94-2.06-.94L8.5 2.5l-.94 2.06-2.06.94zm10 10l.94 2.06.94-2.06 2.06-.94-2.06-.94-.94-2.06-.94 2.06-2.06.94z\"/><path d=\"M17.41 7.96l-1.37-1.37c-.4-.4-.92-.59-1.43-.59-.52 0-1.04.2-1.43.59L10.3 9.45l-7.72 7.72c-.78.78-.78 2.05 0 2.83L4 21.41c.39.39.9.59 1.41.59.51 0 1.02-.2 1.41-.59l7.78-7.78 2.81-2.81c.8-.78.8-2.07 0-2.86zM5.41 20L4 18.59l7.72-7.72 1.47 1.35L5.41 20z\"/>\n",
              "  </svg>\n",
              "      </button>\n",
              "      \n",
              "  <style>\n",
              "    .colab-df-container {\n",
              "      display:flex;\n",
              "      flex-wrap:wrap;\n",
              "      gap: 12px;\n",
              "    }\n",
              "\n",
              "    .colab-df-convert {\n",
              "      background-color: #E8F0FE;\n",
              "      border: none;\n",
              "      border-radius: 50%;\n",
              "      cursor: pointer;\n",
              "      display: none;\n",
              "      fill: #1967D2;\n",
              "      height: 32px;\n",
              "      padding: 0 0 0 0;\n",
              "      width: 32px;\n",
              "    }\n",
              "\n",
              "    .colab-df-convert:hover {\n",
              "      background-color: #E2EBFA;\n",
              "      box-shadow: 0px 1px 2px rgba(60, 64, 67, 0.3), 0px 1px 3px 1px rgba(60, 64, 67, 0.15);\n",
              "      fill: #174EA6;\n",
              "    }\n",
              "\n",
              "    [theme=dark] .colab-df-convert {\n",
              "      background-color: #3B4455;\n",
              "      fill: #D2E3FC;\n",
              "    }\n",
              "\n",
              "    [theme=dark] .colab-df-convert:hover {\n",
              "      background-color: #434B5C;\n",
              "      box-shadow: 0px 1px 3px 1px rgba(0, 0, 0, 0.15);\n",
              "      filter: drop-shadow(0px 1px 2px rgba(0, 0, 0, 0.3));\n",
              "      fill: #FFFFFF;\n",
              "    }\n",
              "  </style>\n",
              "\n",
              "      <script>\n",
              "        const buttonEl =\n",
              "          document.querySelector('#df-030c5a81-610c-4b9f-be62-09c808d65b06 button.colab-df-convert');\n",
              "        buttonEl.style.display =\n",
              "          google.colab.kernel.accessAllowed ? 'block' : 'none';\n",
              "\n",
              "        async function convertToInteractive(key) {\n",
              "          const element = document.querySelector('#df-030c5a81-610c-4b9f-be62-09c808d65b06');\n",
              "          const dataTable =\n",
              "            await google.colab.kernel.invokeFunction('convertToInteractive',\n",
              "                                                     [key], {});\n",
              "          if (!dataTable) return;\n",
              "\n",
              "          const docLinkHtml = 'Like what you see? Visit the ' +\n",
              "            '<a target=\"_blank\" href=https://colab.research.google.com/notebooks/data_table.ipynb>data table notebook</a>'\n",
              "            + ' to learn more about interactive tables.';\n",
              "          element.innerHTML = '';\n",
              "          dataTable['output_type'] = 'display_data';\n",
              "          await google.colab.output.renderOutput(dataTable, element);\n",
              "          const docLink = document.createElement('div');\n",
              "          docLink.innerHTML = docLinkHtml;\n",
              "          element.appendChild(docLink);\n",
              "        }\n",
              "      </script>\n",
              "    </div>\n",
              "  </div>\n",
              "  "
            ]
          },
          "metadata": {},
          "execution_count": 13
        }
      ]
    },
    {
      "cell_type": "markdown",
      "source": [
        "**creating a final refined dataset with unique user id, movie name combination and their ratings:**"
      ],
      "metadata": {
        "id": "MEsxrx34XcdK"
      }
    },
    {
      "cell_type": "code",
      "source": [
        "refined_dataset = merged_dataset.groupby(by=['user id','movie title'], as_index=False).agg({\"rating\":\"mean\"})\n",
        "\n",
        "refined_dataset.head()"
      ],
      "metadata": {
        "colab": {
          "base_uri": "https://localhost:8080/",
          "height": 206
        },
        "id": "Um1QH9FXXfjX",
        "outputId": "709c1ce5-3366-4a86-c651-dfcf9b1bf556"
      },
      "execution_count": 14,
      "outputs": [
        {
          "output_type": "execute_result",
          "data": {
            "text/plain": [
              "   user id                          movie title  rating\n",
              "0        1                101 Dalmatians (1996)     2.0\n",
              "1        1                  12 Angry Men (1957)     5.0\n",
              "2        1  20,000 Leagues Under the Sea (1954)     3.0\n",
              "3        1         2001: A Space Odyssey (1968)     4.0\n",
              "4        1                    Abyss, The (1989)     3.0"
            ],
            "text/html": [
              "\n",
              "  <div id=\"df-331b285b-b200-4888-b716-2191eed5c22b\">\n",
              "    <div class=\"colab-df-container\">\n",
              "      <div>\n",
              "<style scoped>\n",
              "    .dataframe tbody tr th:only-of-type {\n",
              "        vertical-align: middle;\n",
              "    }\n",
              "\n",
              "    .dataframe tbody tr th {\n",
              "        vertical-align: top;\n",
              "    }\n",
              "\n",
              "    .dataframe thead th {\n",
              "        text-align: right;\n",
              "    }\n",
              "</style>\n",
              "<table border=\"1\" class=\"dataframe\">\n",
              "  <thead>\n",
              "    <tr style=\"text-align: right;\">\n",
              "      <th></th>\n",
              "      <th>user id</th>\n",
              "      <th>movie title</th>\n",
              "      <th>rating</th>\n",
              "    </tr>\n",
              "  </thead>\n",
              "  <tbody>\n",
              "    <tr>\n",
              "      <th>0</th>\n",
              "      <td>1</td>\n",
              "      <td>101 Dalmatians (1996)</td>\n",
              "      <td>2.0</td>\n",
              "    </tr>\n",
              "    <tr>\n",
              "      <th>1</th>\n",
              "      <td>1</td>\n",
              "      <td>12 Angry Men (1957)</td>\n",
              "      <td>5.0</td>\n",
              "    </tr>\n",
              "    <tr>\n",
              "      <th>2</th>\n",
              "      <td>1</td>\n",
              "      <td>20,000 Leagues Under the Sea (1954)</td>\n",
              "      <td>3.0</td>\n",
              "    </tr>\n",
              "    <tr>\n",
              "      <th>3</th>\n",
              "      <td>1</td>\n",
              "      <td>2001: A Space Odyssey (1968)</td>\n",
              "      <td>4.0</td>\n",
              "    </tr>\n",
              "    <tr>\n",
              "      <th>4</th>\n",
              "      <td>1</td>\n",
              "      <td>Abyss, The (1989)</td>\n",
              "      <td>3.0</td>\n",
              "    </tr>\n",
              "  </tbody>\n",
              "</table>\n",
              "</div>\n",
              "      <button class=\"colab-df-convert\" onclick=\"convertToInteractive('df-331b285b-b200-4888-b716-2191eed5c22b')\"\n",
              "              title=\"Convert this dataframe to an interactive table.\"\n",
              "              style=\"display:none;\">\n",
              "        \n",
              "  <svg xmlns=\"http://www.w3.org/2000/svg\" height=\"24px\"viewBox=\"0 0 24 24\"\n",
              "       width=\"24px\">\n",
              "    <path d=\"M0 0h24v24H0V0z\" fill=\"none\"/>\n",
              "    <path d=\"M18.56 5.44l.94 2.06.94-2.06 2.06-.94-2.06-.94-.94-2.06-.94 2.06-2.06.94zm-11 1L8.5 8.5l.94-2.06 2.06-.94-2.06-.94L8.5 2.5l-.94 2.06-2.06.94zm10 10l.94 2.06.94-2.06 2.06-.94-2.06-.94-.94-2.06-.94 2.06-2.06.94z\"/><path d=\"M17.41 7.96l-1.37-1.37c-.4-.4-.92-.59-1.43-.59-.52 0-1.04.2-1.43.59L10.3 9.45l-7.72 7.72c-.78.78-.78 2.05 0 2.83L4 21.41c.39.39.9.59 1.41.59.51 0 1.02-.2 1.41-.59l7.78-7.78 2.81-2.81c.8-.78.8-2.07 0-2.86zM5.41 20L4 18.59l7.72-7.72 1.47 1.35L5.41 20z\"/>\n",
              "  </svg>\n",
              "      </button>\n",
              "      \n",
              "  <style>\n",
              "    .colab-df-container {\n",
              "      display:flex;\n",
              "      flex-wrap:wrap;\n",
              "      gap: 12px;\n",
              "    }\n",
              "\n",
              "    .colab-df-convert {\n",
              "      background-color: #E8F0FE;\n",
              "      border: none;\n",
              "      border-radius: 50%;\n",
              "      cursor: pointer;\n",
              "      display: none;\n",
              "      fill: #1967D2;\n",
              "      height: 32px;\n",
              "      padding: 0 0 0 0;\n",
              "      width: 32px;\n",
              "    }\n",
              "\n",
              "    .colab-df-convert:hover {\n",
              "      background-color: #E2EBFA;\n",
              "      box-shadow: 0px 1px 2px rgba(60, 64, 67, 0.3), 0px 1px 3px 1px rgba(60, 64, 67, 0.15);\n",
              "      fill: #174EA6;\n",
              "    }\n",
              "\n",
              "    [theme=dark] .colab-df-convert {\n",
              "      background-color: #3B4455;\n",
              "      fill: #D2E3FC;\n",
              "    }\n",
              "\n",
              "    [theme=dark] .colab-df-convert:hover {\n",
              "      background-color: #434B5C;\n",
              "      box-shadow: 0px 1px 3px 1px rgba(0, 0, 0, 0.15);\n",
              "      filter: drop-shadow(0px 1px 2px rgba(0, 0, 0, 0.3));\n",
              "      fill: #FFFFFF;\n",
              "    }\n",
              "  </style>\n",
              "\n",
              "      <script>\n",
              "        const buttonEl =\n",
              "          document.querySelector('#df-331b285b-b200-4888-b716-2191eed5c22b button.colab-df-convert');\n",
              "        buttonEl.style.display =\n",
              "          google.colab.kernel.accessAllowed ? 'block' : 'none';\n",
              "\n",
              "        async function convertToInteractive(key) {\n",
              "          const element = document.querySelector('#df-331b285b-b200-4888-b716-2191eed5c22b');\n",
              "          const dataTable =\n",
              "            await google.colab.kernel.invokeFunction('convertToInteractive',\n",
              "                                                     [key], {});\n",
              "          if (!dataTable) return;\n",
              "\n",
              "          const docLinkHtml = 'Like what you see? Visit the ' +\n",
              "            '<a target=\"_blank\" href=https://colab.research.google.com/notebooks/data_table.ipynb>data table notebook</a>'\n",
              "            + ' to learn more about interactive tables.';\n",
              "          element.innerHTML = '';\n",
              "          dataTable['output_type'] = 'display_data';\n",
              "          await google.colab.output.renderOutput(dataTable, element);\n",
              "          const docLink = document.createElement('div');\n",
              "          docLink.innerHTML = docLinkHtml;\n",
              "          element.appendChild(docLink);\n",
              "        }\n",
              "      </script>\n",
              "    </div>\n",
              "  </div>\n",
              "  "
            ]
          },
          "metadata": {},
          "execution_count": 14
        }
      ]
    },
    {
      "cell_type": "markdown",
      "source": [
        "**encoding users and movie titles to make sure that the sequence has no missing values when dealing with Deep Neural Networks**"
      ],
      "metadata": {
        "id": "w9kkb_tzXjfc"
      }
    },
    {
      "cell_type": "code",
      "source": [
        "user_enc = LabelEncoder()\n",
        "refined_dataset['user'] = user_enc.fit_transform(refined_dataset['user id'].values)\n",
        "n_users = refined_dataset['user'].nunique()"
      ],
      "metadata": {
        "id": "HW0fqbv_Xlqo"
      },
      "execution_count": 15,
      "outputs": []
    },
    {
      "cell_type": "code",
      "source": [
        "item_enc = LabelEncoder()\n",
        "refined_dataset['movie'] = item_enc.fit_transform(refined_dataset['movie title'].values)\n",
        "n_movies = refined_dataset['movie'].nunique()"
      ],
      "metadata": {
        "id": "ctV2wi-CXrIN"
      },
      "execution_count": 16,
      "outputs": []
    },
    {
      "cell_type": "code",
      "source": [
        "refined_dataset['rating'] = refined_dataset['rating'].values.astype(np.float32)\n",
        "min_rating = min(refined_dataset['rating'])\n",
        "max_rating = max(refined_dataset['rating'])\n",
        "n_users, n_movies, min_rating, max_rating"
      ],
      "metadata": {
        "colab": {
          "base_uri": "https://localhost:8080/"
        },
        "id": "c27B0QY6XsVq",
        "outputId": "6c05fbf1-6865-4872-fe0a-865312b53ced"
      },
      "execution_count": 17,
      "outputs": [
        {
          "output_type": "execute_result",
          "data": {
            "text/plain": [
              "(943, 1664, 1.0, 5.0)"
            ]
          },
          "metadata": {},
          "execution_count": 17
        }
      ]
    },
    {
      "cell_type": "code",
      "source": [
        "refined_dataset.head()"
      ],
      "metadata": {
        "colab": {
          "base_uri": "https://localhost:8080/",
          "height": 206
        },
        "id": "cwV4NUcsXxzP",
        "outputId": "66c1efeb-09db-4c57-8aa1-de8b7494fb8b"
      },
      "execution_count": 18,
      "outputs": [
        {
          "output_type": "execute_result",
          "data": {
            "text/plain": [
              "   user id                          movie title  rating  user  movie\n",
              "0        1                101 Dalmatians (1996)     2.0     0      2\n",
              "1        1                  12 Angry Men (1957)     5.0     0      3\n",
              "2        1  20,000 Leagues Under the Sea (1954)     3.0     0      6\n",
              "3        1         2001: A Space Odyssey (1968)     4.0     0      7\n",
              "4        1                    Abyss, The (1989)     3.0     0     16"
            ],
            "text/html": [
              "\n",
              "  <div id=\"df-28140e43-6c43-412f-89ce-34f231b9c5d5\">\n",
              "    <div class=\"colab-df-container\">\n",
              "      <div>\n",
              "<style scoped>\n",
              "    .dataframe tbody tr th:only-of-type {\n",
              "        vertical-align: middle;\n",
              "    }\n",
              "\n",
              "    .dataframe tbody tr th {\n",
              "        vertical-align: top;\n",
              "    }\n",
              "\n",
              "    .dataframe thead th {\n",
              "        text-align: right;\n",
              "    }\n",
              "</style>\n",
              "<table border=\"1\" class=\"dataframe\">\n",
              "  <thead>\n",
              "    <tr style=\"text-align: right;\">\n",
              "      <th></th>\n",
              "      <th>user id</th>\n",
              "      <th>movie title</th>\n",
              "      <th>rating</th>\n",
              "      <th>user</th>\n",
              "      <th>movie</th>\n",
              "    </tr>\n",
              "  </thead>\n",
              "  <tbody>\n",
              "    <tr>\n",
              "      <th>0</th>\n",
              "      <td>1</td>\n",
              "      <td>101 Dalmatians (1996)</td>\n",
              "      <td>2.0</td>\n",
              "      <td>0</td>\n",
              "      <td>2</td>\n",
              "    </tr>\n",
              "    <tr>\n",
              "      <th>1</th>\n",
              "      <td>1</td>\n",
              "      <td>12 Angry Men (1957)</td>\n",
              "      <td>5.0</td>\n",
              "      <td>0</td>\n",
              "      <td>3</td>\n",
              "    </tr>\n",
              "    <tr>\n",
              "      <th>2</th>\n",
              "      <td>1</td>\n",
              "      <td>20,000 Leagues Under the Sea (1954)</td>\n",
              "      <td>3.0</td>\n",
              "      <td>0</td>\n",
              "      <td>6</td>\n",
              "    </tr>\n",
              "    <tr>\n",
              "      <th>3</th>\n",
              "      <td>1</td>\n",
              "      <td>2001: A Space Odyssey (1968)</td>\n",
              "      <td>4.0</td>\n",
              "      <td>0</td>\n",
              "      <td>7</td>\n",
              "    </tr>\n",
              "    <tr>\n",
              "      <th>4</th>\n",
              "      <td>1</td>\n",
              "      <td>Abyss, The (1989)</td>\n",
              "      <td>3.0</td>\n",
              "      <td>0</td>\n",
              "      <td>16</td>\n",
              "    </tr>\n",
              "  </tbody>\n",
              "</table>\n",
              "</div>\n",
              "      <button class=\"colab-df-convert\" onclick=\"convertToInteractive('df-28140e43-6c43-412f-89ce-34f231b9c5d5')\"\n",
              "              title=\"Convert this dataframe to an interactive table.\"\n",
              "              style=\"display:none;\">\n",
              "        \n",
              "  <svg xmlns=\"http://www.w3.org/2000/svg\" height=\"24px\"viewBox=\"0 0 24 24\"\n",
              "       width=\"24px\">\n",
              "    <path d=\"M0 0h24v24H0V0z\" fill=\"none\"/>\n",
              "    <path d=\"M18.56 5.44l.94 2.06.94-2.06 2.06-.94-2.06-.94-.94-2.06-.94 2.06-2.06.94zm-11 1L8.5 8.5l.94-2.06 2.06-.94-2.06-.94L8.5 2.5l-.94 2.06-2.06.94zm10 10l.94 2.06.94-2.06 2.06-.94-2.06-.94-.94-2.06-.94 2.06-2.06.94z\"/><path d=\"M17.41 7.96l-1.37-1.37c-.4-.4-.92-.59-1.43-.59-.52 0-1.04.2-1.43.59L10.3 9.45l-7.72 7.72c-.78.78-.78 2.05 0 2.83L4 21.41c.39.39.9.59 1.41.59.51 0 1.02-.2 1.41-.59l7.78-7.78 2.81-2.81c.8-.78.8-2.07 0-2.86zM5.41 20L4 18.59l7.72-7.72 1.47 1.35L5.41 20z\"/>\n",
              "  </svg>\n",
              "      </button>\n",
              "      \n",
              "  <style>\n",
              "    .colab-df-container {\n",
              "      display:flex;\n",
              "      flex-wrap:wrap;\n",
              "      gap: 12px;\n",
              "    }\n",
              "\n",
              "    .colab-df-convert {\n",
              "      background-color: #E8F0FE;\n",
              "      border: none;\n",
              "      border-radius: 50%;\n",
              "      cursor: pointer;\n",
              "      display: none;\n",
              "      fill: #1967D2;\n",
              "      height: 32px;\n",
              "      padding: 0 0 0 0;\n",
              "      width: 32px;\n",
              "    }\n",
              "\n",
              "    .colab-df-convert:hover {\n",
              "      background-color: #E2EBFA;\n",
              "      box-shadow: 0px 1px 2px rgba(60, 64, 67, 0.3), 0px 1px 3px 1px rgba(60, 64, 67, 0.15);\n",
              "      fill: #174EA6;\n",
              "    }\n",
              "\n",
              "    [theme=dark] .colab-df-convert {\n",
              "      background-color: #3B4455;\n",
              "      fill: #D2E3FC;\n",
              "    }\n",
              "\n",
              "    [theme=dark] .colab-df-convert:hover {\n",
              "      background-color: #434B5C;\n",
              "      box-shadow: 0px 1px 3px 1px rgba(0, 0, 0, 0.15);\n",
              "      filter: drop-shadow(0px 1px 2px rgba(0, 0, 0, 0.3));\n",
              "      fill: #FFFFFF;\n",
              "    }\n",
              "  </style>\n",
              "\n",
              "      <script>\n",
              "        const buttonEl =\n",
              "          document.querySelector('#df-28140e43-6c43-412f-89ce-34f231b9c5d5 button.colab-df-convert');\n",
              "        buttonEl.style.display =\n",
              "          google.colab.kernel.accessAllowed ? 'block' : 'none';\n",
              "\n",
              "        async function convertToInteractive(key) {\n",
              "          const element = document.querySelector('#df-28140e43-6c43-412f-89ce-34f231b9c5d5');\n",
              "          const dataTable =\n",
              "            await google.colab.kernel.invokeFunction('convertToInteractive',\n",
              "                                                     [key], {});\n",
              "          if (!dataTable) return;\n",
              "\n",
              "          const docLinkHtml = 'Like what you see? Visit the ' +\n",
              "            '<a target=\"_blank\" href=https://colab.research.google.com/notebooks/data_table.ipynb>data table notebook</a>'\n",
              "            + ' to learn more about interactive tables.';\n",
              "          element.innerHTML = '';\n",
              "          dataTable['output_type'] = 'display_data';\n",
              "          await google.colab.output.renderOutput(dataTable, element);\n",
              "          const docLink = document.createElement('div');\n",
              "          docLink.innerHTML = docLinkHtml;\n",
              "          element.appendChild(docLink);\n",
              "        }\n",
              "      </script>\n",
              "    </div>\n",
              "  </div>\n",
              "  "
            ]
          },
          "metadata": {},
          "execution_count": 18
        }
      ]
    },
    {
      "cell_type": "markdown",
      "source": [
        "**splitting the data into training and testing**"
      ],
      "metadata": {
        "id": "EtdigER2X1we"
      }
    },
    {
      "cell_type": "code",
      "source": [
        "X = refined_dataset[['user', 'movie']].values\n",
        "y = refined_dataset['rating'].values\n",
        "X_train, X_test, y_train, y_test = train_test_split(X, y, test_size=0.1, random_state=50)\n",
        "X_train.shape, X_test.shape, y_train.shape, y_test.shape"
      ],
      "metadata": {
        "colab": {
          "base_uri": "https://localhost:8080/"
        },
        "id": "0-9B-sb4X47i",
        "outputId": "bd580671-c6d2-4a1f-d4e4-7f7a45f0be28"
      },
      "execution_count": 19,
      "outputs": [
        {
          "output_type": "execute_result",
          "data": {
            "text/plain": [
              "((89723, 2), (9970, 2), (89723,), (9970,))"
            ]
          },
          "metadata": {},
          "execution_count": 19
        }
      ]
    },
    {
      "cell_type": "markdown",
      "source": [
        "**number of factors which are to be considered by the Embedding layer**"
      ],
      "metadata": {
        "id": "e7wJqBl5X7r5"
      }
    },
    {
      "cell_type": "code",
      "source": [
        "n_factors = 150"
      ],
      "metadata": {
        "id": "W_1b6EwBYDew"
      },
      "execution_count": 20,
      "outputs": []
    },
    {
      "cell_type": "markdown",
      "source": [
        "now, columns in the input array are split into two separate arrays, as we know Keras considers them as two distinct inputs, each input are fed to their own array respectively."
      ],
      "metadata": {
        "id": "MdqnnQytYHq9"
      }
    },
    {
      "cell_type": "code",
      "source": [
        "X_train_array = [X_train[:,0], X_train[:,1]]\n",
        "X_test_array = [X_test[:,0], X_test[:,1]]"
      ],
      "metadata": {
        "id": "SIROmfzTYZWN"
      },
      "execution_count": 21,
      "outputs": []
    },
    {
      "cell_type": "code",
      "source": [
        "X_train, X_train_array, X_train_array[0].shape"
      ],
      "metadata": {
        "colab": {
          "base_uri": "https://localhost:8080/"
        },
        "id": "Zuy3aFXfYnaa",
        "outputId": "defffe8f-09c5-4d8d-90ce-e5a38a36827d"
      },
      "execution_count": 22,
      "outputs": [
        {
          "output_type": "execute_result",
          "data": {
            "text/plain": [
              "(array([[ 180, 1152],\n",
              "        [ 487,  389],\n",
              "        [ 177,  302],\n",
              "        ...,\n",
              "        [ 431, 1588],\n",
              "        [ 232,  399],\n",
              "        [ 138,  612]]),\n",
              " [array([180, 487, 177, ..., 431, 232, 138]),\n",
              "  array([1152,  389,  302, ..., 1588,  399,  612])],\n",
              " (89723,))"
            ]
          },
          "metadata": {},
          "execution_count": 22
        }
      ]
    },
    {
      "cell_type": "markdown",
      "source": [
        "**normalizing the labels**"
      ],
      "metadata": {
        "id": "tqix8M1qYt0L"
      }
    },
    {
      "cell_type": "code",
      "source": [
        "y_train = (y_train - min_rating)/(max_rating - min_rating)\n",
        "y_test = (y_test - min_rating)/(max_rating - min_rating)"
      ],
      "metadata": {
        "id": "Jt_ofoxvYvp0"
      },
      "execution_count": 23,
      "outputs": []
    },
    {
      "cell_type": "markdown",
      "source": [
        "**building a Softmax Deep Neutral Network**"
      ],
      "metadata": {
        "id": "AXpxjEj5Yypy"
      }
    },
    {
      "cell_type": "code",
      "source": [
        "import tensorflow as tf"
      ],
      "metadata": {
        "id": "NEXoFquwd8bF"
      },
      "execution_count": 24,
      "outputs": []
    },
    {
      "cell_type": "code",
      "source": [
        "# initializing input layer for users\n",
        "user = tf.keras.layers.Input(shape = (1,))\n",
        "\n",
        "# embedding layer for n_factors of users\n",
        "#u = tf.keras.layers.embeddings.Embedding(n_users, n_factors, embeddings_initializer = 'he_normal', embeddings_regularizer = tf.keras.regularizers.l2(1e-6))(user)\n",
        "u = tf.keras.layers.Embedding(n_users, n_factors, embeddings_initializer = 'he_normal', embeddings_regularizer = tf.keras.regularizers.l2(1e-6))(user)\n",
        "u = tf.keras.layers.Reshape((n_factors,))(u)\n",
        "\n",
        "# initializing input layer for movies\n",
        "movie = tf.keras.layers.Input(shape = (1,))\n",
        "\n",
        "# embedding layer for n_factors of movies\n",
        "#m = keras.layers.embeddings.Embedding(n_movies, n_factors, embeddings_initializer = 'he_normal', embeddings_regularizer=tf.keras.regularizers.l2(1e-6))(movie)\n",
        "m = tf.keras.layers.Embedding(n_movies, n_factors, embeddings_initializer = 'he_normal', embeddings_regularizer=tf.keras.regularizers.l2(1e-6))(movie)\n",
        "m = tf.keras.layers.Reshape((n_factors,))(m)\n",
        "\n",
        "# stacking up both user and movie embeddings\n",
        "x = tf.keras.layers.Concatenate()([u,m])\n",
        "x = tf.keras.layers.Dropout(0.05)(x)\n",
        "\n",
        "# adding a Dense layer to the architecture\n",
        "x = tf.keras.layers.Dense(32, kernel_initializer='he_normal')(x)\n",
        "x = tf.keras.layers.Activation(activation='relu')(x)\n",
        "x = tf.keras.layers.Dropout(0.05)(x)\n",
        "\n",
        "x = tf.keras.layers.Dense(16, kernel_initializer='he_normal')(x)\n",
        "x = tf.keras.layers.Activation(activation='relu')(x)\n",
        "x = tf.keras.layers.Dropout(0.05)(x)\n",
        "\n",
        "# adding an Output layer with Sigmoid activation funtion which gives output between 0 and 1\n",
        "x = tf.keras.layers.Dense(9)(x)\n",
        "x = tf.keras.layers.Activation(activation='softmax')(x)\n",
        "\n",
        "# adding a Lambda layer to convert the output to rating by scaling it with the help of available rating information\n",
        "# x = tf.keras.layers.Lambda(lambda x: x*(max_rating - min_rating) + min_rating)(x)\n",
        "\n",
        "# defining the model\n",
        "model = tf.keras.models.Model(inputs=[user,movie], outputs=x)\n",
        "\n",
        "\n",
        "# compiling the model\n",
        "# model.compile(loss='binary_crossentropy', optimizer = optimizer)\n",
        "# model.compile(loss='mean_squared_error', optimizer = optimizer,metrics=['accuracy'])\n",
        "model.compile(optimizer='sgd', loss=tf.keras.losses.SparseCategoricalCrossentropy(), metrics=['accuracy'])\n"
      ],
      "metadata": {
        "id": "-AZOCx5PY4Cr"
      },
      "execution_count": 26,
      "outputs": []
    },
    {
      "cell_type": "code",
      "source": [
        "model.summary()"
      ],
      "metadata": {
        "id": "r6XXOvaau92I",
        "colab": {
          "base_uri": "https://localhost:8080/"
        },
        "outputId": "b5b9b792-f2ae-425c-d34a-a7b71e8df15d"
      },
      "execution_count": 27,
      "outputs": [
        {
          "output_type": "stream",
          "name": "stdout",
          "text": [
            "Model: \"model\"\n",
            "__________________________________________________________________________________________________\n",
            " Layer (type)                   Output Shape         Param #     Connected to                     \n",
            "==================================================================================================\n",
            " input_3 (InputLayer)           [(None, 1)]          0           []                               \n",
            "                                                                                                  \n",
            " input_4 (InputLayer)           [(None, 1)]          0           []                               \n",
            "                                                                                                  \n",
            " embedding_1 (Embedding)        (None, 1, 150)       141450      ['input_3[0][0]']                \n",
            "                                                                                                  \n",
            " embedding_2 (Embedding)        (None, 1, 150)       249600      ['input_4[0][0]']                \n",
            "                                                                                                  \n",
            " reshape_1 (Reshape)            (None, 150)          0           ['embedding_1[0][0]']            \n",
            "                                                                                                  \n",
            " reshape_2 (Reshape)            (None, 150)          0           ['embedding_2[0][0]']            \n",
            "                                                                                                  \n",
            " concatenate (Concatenate)      (None, 300)          0           ['reshape_1[0][0]',              \n",
            "                                                                  'reshape_2[0][0]']              \n",
            "                                                                                                  \n",
            " dropout (Dropout)              (None, 300)          0           ['concatenate[0][0]']            \n",
            "                                                                                                  \n",
            " dense (Dense)                  (None, 32)           9632        ['dropout[0][0]']                \n",
            "                                                                                                  \n",
            " activation (Activation)        (None, 32)           0           ['dense[0][0]']                  \n",
            "                                                                                                  \n",
            " dropout_1 (Dropout)            (None, 32)           0           ['activation[0][0]']             \n",
            "                                                                                                  \n",
            " dense_1 (Dense)                (None, 16)           528         ['dropout_1[0][0]']              \n",
            "                                                                                                  \n",
            " activation_1 (Activation)      (None, 16)           0           ['dense_1[0][0]']                \n",
            "                                                                                                  \n",
            " dropout_2 (Dropout)            (None, 16)           0           ['activation_1[0][0]']           \n",
            "                                                                                                  \n",
            " dense_2 (Dense)                (None, 9)            153         ['dropout_2[0][0]']              \n",
            "                                                                                                  \n",
            " activation_2 (Activation)      (None, 9)            0           ['dense_2[0][0]']                \n",
            "                                                                                                  \n",
            "==================================================================================================\n",
            "Total params: 401,363\n",
            "Trainable params: 401,363\n",
            "Non-trainable params: 0\n",
            "__________________________________________________________________________________________________\n"
          ]
        }
      ]
    },
    {
      "cell_type": "code",
      "source": [
        "reduce_lr = tf.keras.callbacks.ReduceLROnPlateau(monitor='val_loss', factor=0.75, patience=3, min_lr=0.000001, verbose=1)\n",
        "\n",
        "history = model.fit(x = X_train_array, y = y_train, batch_size=128, epochs=70, verbose=1, validation_data=(X_test_array, y_test)\n",
        ",shuffle=True,callbacks=[reduce_lr])\n"
      ],
      "metadata": {
        "id": "q2JwctapZM92",
        "colab": {
          "base_uri": "https://localhost:8080/"
        },
        "outputId": "bb9b1259-bf54-470b-bf0a-df1198fa0222"
      },
      "execution_count": 28,
      "outputs": [
        {
          "output_type": "stream",
          "name": "stdout",
          "text": [
            "Epoch 1/70\n",
            "701/701 [==============================] - 6s 7ms/step - loss: 0.8413 - accuracy: 0.0608 - val_loss: 0.5301 - val_accuracy: 0.0617 - lr: 0.0100\n",
            "Epoch 2/70\n",
            "701/701 [==============================] - 5s 7ms/step - loss: 0.5377 - accuracy: 0.0609 - val_loss: 0.5141 - val_accuracy: 0.0617 - lr: 0.0100\n",
            "Epoch 3/70\n",
            "701/701 [==============================] - 5s 7ms/step - loss: 0.5281 - accuracy: 0.0609 - val_loss: 0.5108 - val_accuracy: 0.0617 - lr: 0.0100\n",
            "Epoch 4/70\n",
            "701/701 [==============================] - 6s 8ms/step - loss: 0.5235 - accuracy: 0.0609 - val_loss: 0.5097 - val_accuracy: 0.0617 - lr: 0.0100\n",
            "Epoch 5/70\n",
            "701/701 [==============================] - 5s 7ms/step - loss: 0.5208 - accuracy: 0.0609 - val_loss: 0.5077 - val_accuracy: 0.0617 - lr: 0.0100\n",
            "Epoch 6/70\n",
            "701/701 [==============================] - 5s 7ms/step - loss: 0.5180 - accuracy: 0.0609 - val_loss: 0.5056 - val_accuracy: 0.0617 - lr: 0.0100\n",
            "Epoch 7/70\n",
            "701/701 [==============================] - 5s 7ms/step - loss: 0.5159 - accuracy: 0.0609 - val_loss: 0.5039 - val_accuracy: 0.0617 - lr: 0.0100\n",
            "Epoch 8/70\n",
            "701/701 [==============================] - 5s 7ms/step - loss: 0.5134 - accuracy: 0.0609 - val_loss: 0.5020 - val_accuracy: 0.0617 - lr: 0.0100\n",
            "Epoch 9/70\n",
            "701/701 [==============================] - 5s 7ms/step - loss: 0.5112 - accuracy: 0.0609 - val_loss: 0.4993 - val_accuracy: 0.0617 - lr: 0.0100\n",
            "Epoch 10/70\n",
            "701/701 [==============================] - 5s 7ms/step - loss: 0.5080 - accuracy: 0.0609 - val_loss: 0.4953 - val_accuracy: 0.0617 - lr: 0.0100\n",
            "Epoch 11/70\n",
            "701/701 [==============================] - 5s 7ms/step - loss: 0.5041 - accuracy: 0.0609 - val_loss: 0.4922 - val_accuracy: 0.0617 - lr: 0.0100\n",
            "Epoch 12/70\n",
            "701/701 [==============================] - 5s 7ms/step - loss: 0.4985 - accuracy: 0.0609 - val_loss: 0.4855 - val_accuracy: 0.0617 - lr: 0.0100\n",
            "Epoch 13/70\n",
            "701/701 [==============================] - 5s 7ms/step - loss: 0.4930 - accuracy: 0.0610 - val_loss: 0.4790 - val_accuracy: 0.0617 - lr: 0.0100\n",
            "Epoch 14/70\n",
            "701/701 [==============================] - 5s 7ms/step - loss: 0.4861 - accuracy: 0.0617 - val_loss: 0.4715 - val_accuracy: 0.0621 - lr: 0.0100\n",
            "Epoch 15/70\n",
            "701/701 [==============================] - 5s 7ms/step - loss: 0.4785 - accuracy: 0.0647 - val_loss: 0.4639 - val_accuracy: 0.0638 - lr: 0.0100\n",
            "Epoch 16/70\n",
            "701/701 [==============================] - 5s 7ms/step - loss: 0.4703 - accuracy: 0.0706 - val_loss: 0.4566 - val_accuracy: 0.0712 - lr: 0.0100\n",
            "Epoch 17/70\n",
            "701/701 [==============================] - 5s 7ms/step - loss: 0.4637 - accuracy: 0.0783 - val_loss: 0.4500 - val_accuracy: 0.0736 - lr: 0.0100\n",
            "Epoch 18/70\n",
            "701/701 [==============================] - 5s 7ms/step - loss: 0.4571 - accuracy: 0.0846 - val_loss: 0.4446 - val_accuracy: 0.0811 - lr: 0.0100\n",
            "Epoch 19/70\n",
            "701/701 [==============================] - 5s 7ms/step - loss: 0.4517 - accuracy: 0.0910 - val_loss: 0.4405 - val_accuracy: 0.0884 - lr: 0.0100\n",
            "Epoch 20/70\n",
            "701/701 [==============================] - 5s 7ms/step - loss: 0.4472 - accuracy: 0.0950 - val_loss: 0.4392 - val_accuracy: 0.1060 - lr: 0.0100\n",
            "Epoch 21/70\n",
            "701/701 [==============================] - 5s 7ms/step - loss: 0.4433 - accuracy: 0.0994 - val_loss: 0.4339 - val_accuracy: 0.0953 - lr: 0.0100\n",
            "Epoch 22/70\n",
            "701/701 [==============================] - 5s 7ms/step - loss: 0.4397 - accuracy: 0.1017 - val_loss: 0.4312 - val_accuracy: 0.0957 - lr: 0.0100\n",
            "Epoch 23/70\n",
            "701/701 [==============================] - 5s 7ms/step - loss: 0.4370 - accuracy: 0.1039 - val_loss: 0.4289 - val_accuracy: 0.1004 - lr: 0.0100\n",
            "Epoch 24/70\n",
            "701/701 [==============================] - 5s 7ms/step - loss: 0.4338 - accuracy: 0.1063 - val_loss: 0.4270 - val_accuracy: 0.1013 - lr: 0.0100\n",
            "Epoch 25/70\n",
            "701/701 [==============================] - 5s 7ms/step - loss: 0.4317 - accuracy: 0.1096 - val_loss: 0.4256 - val_accuracy: 0.1021 - lr: 0.0100\n",
            "Epoch 26/70\n",
            "701/701 [==============================] - 5s 7ms/step - loss: 0.4301 - accuracy: 0.1092 - val_loss: 0.4243 - val_accuracy: 0.0986 - lr: 0.0100\n",
            "Epoch 27/70\n",
            "701/701 [==============================] - 5s 7ms/step - loss: 0.4282 - accuracy: 0.1101 - val_loss: 0.4230 - val_accuracy: 0.1015 - lr: 0.0100\n",
            "Epoch 28/70\n",
            "701/701 [==============================] - 5s 8ms/step - loss: 0.4254 - accuracy: 0.1116 - val_loss: 0.4230 - val_accuracy: 0.1124 - lr: 0.0100\n",
            "Epoch 29/70\n",
            "701/701 [==============================] - 9s 13ms/step - loss: 0.4240 - accuracy: 0.1123 - val_loss: 0.4221 - val_accuracy: 0.0978 - lr: 0.0100\n",
            "Epoch 30/70\n",
            "701/701 [==============================] - 6s 8ms/step - loss: 0.4229 - accuracy: 0.1132 - val_loss: 0.4208 - val_accuracy: 0.1089 - lr: 0.0100\n",
            "Epoch 31/70\n",
            "701/701 [==============================] - 5s 7ms/step - loss: 0.4219 - accuracy: 0.1137 - val_loss: 0.4202 - val_accuracy: 0.1131 - lr: 0.0100\n",
            "Epoch 32/70\n",
            "701/701 [==============================] - 5s 7ms/step - loss: 0.4208 - accuracy: 0.1137 - val_loss: 0.4196 - val_accuracy: 0.1133 - lr: 0.0100\n",
            "Epoch 33/70\n",
            "701/701 [==============================] - 5s 8ms/step - loss: 0.4196 - accuracy: 0.1139 - val_loss: 0.4186 - val_accuracy: 0.1065 - lr: 0.0100\n",
            "Epoch 34/70\n",
            "701/701 [==============================] - 5s 7ms/step - loss: 0.4184 - accuracy: 0.1151 - val_loss: 0.4188 - val_accuracy: 0.1164 - lr: 0.0100\n",
            "Epoch 35/70\n",
            "701/701 [==============================] - 5s 7ms/step - loss: 0.4178 - accuracy: 0.1157 - val_loss: 0.4178 - val_accuracy: 0.1050 - lr: 0.0100\n",
            "Epoch 36/70\n",
            "701/701 [==============================] - 5s 7ms/step - loss: 0.4161 - accuracy: 0.1160 - val_loss: 0.4175 - val_accuracy: 0.1055 - lr: 0.0100\n",
            "Epoch 37/70\n",
            "701/701 [==============================] - 5s 7ms/step - loss: 0.4161 - accuracy: 0.1165 - val_loss: 0.4173 - val_accuracy: 0.1058 - lr: 0.0100\n",
            "Epoch 38/70\n",
            "701/701 [==============================] - 5s 7ms/step - loss: 0.4147 - accuracy: 0.1173 - val_loss: 0.4169 - val_accuracy: 0.1136 - lr: 0.0100\n",
            "Epoch 39/70\n",
            "701/701 [==============================] - 5s 7ms/step - loss: 0.4142 - accuracy: 0.1177 - val_loss: 0.4168 - val_accuracy: 0.1116 - lr: 0.0100\n",
            "Epoch 40/70\n",
            "701/701 [==============================] - 5s 7ms/step - loss: 0.4137 - accuracy: 0.1175 - val_loss: 0.4165 - val_accuracy: 0.1072 - lr: 0.0100\n",
            "Epoch 41/70\n",
            "701/701 [==============================] - 5s 7ms/step - loss: 0.4128 - accuracy: 0.1180 - val_loss: 0.4163 - val_accuracy: 0.1157 - lr: 0.0100\n",
            "Epoch 42/70\n",
            "701/701 [==============================] - 5s 7ms/step - loss: 0.4123 - accuracy: 0.1181 - val_loss: 0.4160 - val_accuracy: 0.1097 - lr: 0.0100\n",
            "Epoch 43/70\n",
            "701/701 [==============================] - 5s 7ms/step - loss: 0.4129 - accuracy: 0.1176 - val_loss: 0.4159 - val_accuracy: 0.1097 - lr: 0.0100\n",
            "Epoch 44/70\n",
            "701/701 [==============================] - 5s 7ms/step - loss: 0.4123 - accuracy: 0.1171 - val_loss: 0.4158 - val_accuracy: 0.1147 - lr: 0.0100\n",
            "Epoch 45/70\n",
            "701/701 [==============================] - 5s 7ms/step - loss: 0.4111 - accuracy: 0.1183 - val_loss: 0.4157 - val_accuracy: 0.1148 - lr: 0.0100\n",
            "Epoch 46/70\n",
            "701/701 [==============================] - 5s 7ms/step - loss: 0.4105 - accuracy: 0.1187 - val_loss: 0.4154 - val_accuracy: 0.1145 - lr: 0.0100\n",
            "Epoch 47/70\n",
            "701/701 [==============================] - 5s 7ms/step - loss: 0.4096 - accuracy: 0.1186 - val_loss: 0.4155 - val_accuracy: 0.1171 - lr: 0.0100\n",
            "Epoch 48/70\n",
            "701/701 [==============================] - 5s 7ms/step - loss: 0.4097 - accuracy: 0.1193 - val_loss: 0.4150 - val_accuracy: 0.1121 - lr: 0.0100\n",
            "Epoch 49/70\n",
            "701/701 [==============================] - 5s 7ms/step - loss: 0.4089 - accuracy: 0.1181 - val_loss: 0.4152 - val_accuracy: 0.1173 - lr: 0.0100\n",
            "Epoch 50/70\n",
            "701/701 [==============================] - 5s 8ms/step - loss: 0.4091 - accuracy: 0.1187 - val_loss: 0.4150 - val_accuracy: 0.1162 - lr: 0.0100\n",
            "Epoch 51/70\n",
            "700/701 [============================>.] - ETA: 0s - loss: 0.4095 - accuracy: 0.1181\n",
            "Epoch 51: ReduceLROnPlateau reducing learning rate to 0.007499999832361937.\n",
            "701/701 [==============================] - 5s 7ms/step - loss: 0.4095 - accuracy: 0.1181 - val_loss: 0.4150 - val_accuracy: 0.1170 - lr: 0.0100\n",
            "Epoch 52/70\n",
            "701/701 [==============================] - 6s 8ms/step - loss: 0.4088 - accuracy: 0.1185 - val_loss: 0.4149 - val_accuracy: 0.1158 - lr: 0.0075\n",
            "Epoch 53/70\n",
            "701/701 [==============================] - 5s 7ms/step - loss: 0.4075 - accuracy: 0.1191 - val_loss: 0.4148 - val_accuracy: 0.1160 - lr: 0.0075\n",
            "Epoch 54/70\n",
            "701/701 [==============================] - 5s 7ms/step - loss: 0.4078 - accuracy: 0.1188 - val_loss: 0.4148 - val_accuracy: 0.1137 - lr: 0.0075\n",
            "Epoch 55/70\n",
            "701/701 [==============================] - 5s 7ms/step - loss: 0.4068 - accuracy: 0.1198 - val_loss: 0.4146 - val_accuracy: 0.1122 - lr: 0.0075\n",
            "Epoch 56/70\n",
            "701/701 [==============================] - 5s 7ms/step - loss: 0.4064 - accuracy: 0.1194 - val_loss: 0.4151 - val_accuracy: 0.1204 - lr: 0.0075\n",
            "Epoch 57/70\n",
            "701/701 [==============================] - 5s 7ms/step - loss: 0.4070 - accuracy: 0.1194 - val_loss: 0.4150 - val_accuracy: 0.1186 - lr: 0.0075\n",
            "Epoch 58/70\n",
            "697/701 [============================>.] - ETA: 0s - loss: 0.4064 - accuracy: 0.1193\n",
            "Epoch 58: ReduceLROnPlateau reducing learning rate to 0.005624999874271452.\n",
            "701/701 [==============================] - 5s 7ms/step - loss: 0.4063 - accuracy: 0.1193 - val_loss: 0.4150 - val_accuracy: 0.1199 - lr: 0.0075\n",
            "Epoch 59/70\n",
            "701/701 [==============================] - 5s 7ms/step - loss: 0.4052 - accuracy: 0.1203 - val_loss: 0.4148 - val_accuracy: 0.1173 - lr: 0.0056\n",
            "Epoch 60/70\n",
            "701/701 [==============================] - 5s 7ms/step - loss: 0.4051 - accuracy: 0.1201 - val_loss: 0.4152 - val_accuracy: 0.1215 - lr: 0.0056\n",
            "Epoch 61/70\n",
            "697/701 [============================>.] - ETA: 0s - loss: 0.4050 - accuracy: 0.1214\n",
            "Epoch 61: ReduceLROnPlateau reducing learning rate to 0.004218749818392098.\n",
            "701/701 [==============================] - 5s 7ms/step - loss: 0.4049 - accuracy: 0.1214 - val_loss: 0.4148 - val_accuracy: 0.1179 - lr: 0.0056\n",
            "Epoch 62/70\n",
            "701/701 [==============================] - 5s 7ms/step - loss: 0.4052 - accuracy: 0.1211 - val_loss: 0.4146 - val_accuracy: 0.1136 - lr: 0.0042\n",
            "Epoch 63/70\n",
            "701/701 [==============================] - 6s 8ms/step - loss: 0.4049 - accuracy: 0.1205 - val_loss: 0.4146 - val_accuracy: 0.1185 - lr: 0.0042\n",
            "Epoch 64/70\n",
            "695/701 [============================>.] - ETA: 0s - loss: 0.4041 - accuracy: 0.1216\n",
            "Epoch 64: ReduceLROnPlateau reducing learning rate to 0.003164062276482582.\n",
            "701/701 [==============================] - 5s 7ms/step - loss: 0.4042 - accuracy: 0.1215 - val_loss: 0.4147 - val_accuracy: 0.1190 - lr: 0.0042\n",
            "Epoch 65/70\n",
            "701/701 [==============================] - 5s 7ms/step - loss: 0.4049 - accuracy: 0.1206 - val_loss: 0.4145 - val_accuracy: 0.1179 - lr: 0.0032\n",
            "Epoch 66/70\n",
            "701/701 [==============================] - 5s 7ms/step - loss: 0.4048 - accuracy: 0.1201 - val_loss: 0.4149 - val_accuracy: 0.1213 - lr: 0.0032\n",
            "Epoch 67/70\n",
            "700/701 [============================>.] - ETA: 0s - loss: 0.4038 - accuracy: 0.1216\n",
            "Epoch 67: ReduceLROnPlateau reducing learning rate to 0.0023730467073619366.\n",
            "701/701 [==============================] - 5s 7ms/step - loss: 0.4038 - accuracy: 0.1216 - val_loss: 0.4147 - val_accuracy: 0.1202 - lr: 0.0032\n",
            "Epoch 68/70\n",
            "701/701 [==============================] - 5s 7ms/step - loss: 0.4035 - accuracy: 0.1214 - val_loss: 0.4143 - val_accuracy: 0.1177 - lr: 0.0024\n",
            "Epoch 69/70\n",
            "701/701 [==============================] - 5s 7ms/step - loss: 0.4042 - accuracy: 0.1201 - val_loss: 0.4144 - val_accuracy: 0.1154 - lr: 0.0024\n",
            "Epoch 70/70\n",
            "701/701 [==============================] - 5s 7ms/step - loss: 0.4031 - accuracy: 0.1219 - val_loss: 0.4144 - val_accuracy: 0.1161 - lr: 0.0024\n"
          ]
        }
      ]
    },
    {
      "cell_type": "code",
      "source": [
        "plt.plot(history.history[\"loss\"][5:])\n",
        "plt.plot(history.history[\"val_loss\"][5:])\n",
        "plt.title(\"model loss\")\n",
        "plt.ylabel(\"loss\")\n",
        "plt.xlabel(\"epoch\")\n",
        "plt.legend([\"train\", \"test\"], loc=\"upper left\")\n",
        "plt.show()"
      ],
      "metadata": {
        "id": "ae1qMtpGvCnk",
        "colab": {
          "base_uri": "https://localhost:8080/",
          "height": 295
        },
        "outputId": "616b7e02-bdea-4d74-ba4b-a6c9d66cb8b2"
      },
      "execution_count": 29,
      "outputs": [
        {
          "output_type": "display_data",
          "data": {
            "text/plain": [
              "<Figure size 432x288 with 1 Axes>"
            ],
            "image/png": "[encoded data removed]"
          },
          "metadata": {
            "needs_background": "light"
          }
        }
      ]
    },
    {
      "cell_type": "markdown",
      "source": [
        "**getting movies for given User**"
      ],
      "metadata": {
        "id": "lfsvh4UxvRaS"
      }
    },
    {
      "cell_type": "code",
      "source": [
        "refined_dataset.head()"
      ],
      "metadata": {
        "id": "NhGY2vdHvCbY",
        "colab": {
          "base_uri": "https://localhost:8080/",
          "height": 206
        },
        "outputId": "7eed574f-32aa-4c35-bd81-778fe0d4eecd"
      },
      "execution_count": 31,
      "outputs": [
        {
          "output_type": "execute_result",
          "data": {
            "text/plain": [
              "   user id                          movie title  rating  user  movie\n",
              "0        1                101 Dalmatians (1996)     2.0     0      2\n",
              "1        1                  12 Angry Men (1957)     5.0     0      3\n",
              "2        1  20,000 Leagues Under the Sea (1954)     3.0     0      6\n",
              "3        1         2001: A Space Odyssey (1968)     4.0     0      7\n",
              "4        1                    Abyss, The (1989)     3.0     0     16"
            ],
            "text/html": [
              "\n",
              "  <div id=\"df-5a139ffc-e9fc-4707-a899-22e3a5666d7b\">\n",
              "    <div class=\"colab-df-container\">\n",
              "      <div>\n",
              "<style scoped>\n",
              "    .dataframe tbody tr th:only-of-type {\n",
              "        vertical-align: middle;\n",
              "    }\n",
              "\n",
              "    .dataframe tbody tr th {\n",
              "        vertical-align: top;\n",
              "    }\n",
              "\n",
              "    .dataframe thead th {\n",
              "        text-align: right;\n",
              "    }\n",
              "</style>\n",
              "<table border=\"1\" class=\"dataframe\">\n",
              "  <thead>\n",
              "    <tr style=\"text-align: right;\">\n",
              "      <th></th>\n",
              "      <th>user id</th>\n",
              "      <th>movie title</th>\n",
              "      <th>rating</th>\n",
              "      <th>user</th>\n",
              "      <th>movie</th>\n",
              "    </tr>\n",
              "  </thead>\n",
              "  <tbody>\n",
              "    <tr>\n",
              "      <th>0</th>\n",
              "      <td>1</td>\n",
              "      <td>101 Dalmatians (1996)</td>\n",
              "      <td>2.0</td>\n",
              "      <td>0</td>\n",
              "      <td>2</td>\n",
              "    </tr>\n",
              "    <tr>\n",
              "      <th>1</th>\n",
              "      <td>1</td>\n",
              "      <td>12 Angry Men (1957)</td>\n",
              "      <td>5.0</td>\n",
              "      <td>0</td>\n",
              "      <td>3</td>\n",
              "    </tr>\n",
              "    <tr>\n",
              "      <th>2</th>\n",
              "      <td>1</td>\n",
              "      <td>20,000 Leagues Under the Sea (1954)</td>\n",
              "      <td>3.0</td>\n",
              "      <td>0</td>\n",
              "      <td>6</td>\n",
              "    </tr>\n",
              "    <tr>\n",
              "      <th>3</th>\n",
              "      <td>1</td>\n",
              "      <td>2001: A Space Odyssey (1968)</td>\n",
              "      <td>4.0</td>\n",
              "      <td>0</td>\n",
              "      <td>7</td>\n",
              "    </tr>\n",
              "    <tr>\n",
              "      <th>4</th>\n",
              "      <td>1</td>\n",
              "      <td>Abyss, The (1989)</td>\n",
              "      <td>3.0</td>\n",
              "      <td>0</td>\n",
              "      <td>16</td>\n",
              "    </tr>\n",
              "  </tbody>\n",
              "</table>\n",
              "</div>\n",
              "      <button class=\"colab-df-convert\" onclick=\"convertToInteractive('df-5a139ffc-e9fc-4707-a899-22e3a5666d7b')\"\n",
              "              title=\"Convert this dataframe to an interactive table.\"\n",
              "              style=\"display:none;\">\n",
              "        \n",
              "  <svg xmlns=\"http://www.w3.org/2000/svg\" height=\"24px\"viewBox=\"0 0 24 24\"\n",
              "       width=\"24px\">\n",
              "    <path d=\"M0 0h24v24H0V0z\" fill=\"none\"/>\n",
              "    <path d=\"M18.56 5.44l.94 2.06.94-2.06 2.06-.94-2.06-.94-.94-2.06-.94 2.06-2.06.94zm-11 1L8.5 8.5l.94-2.06 2.06-.94-2.06-.94L8.5 2.5l-.94 2.06-2.06.94zm10 10l.94 2.06.94-2.06 2.06-.94-2.06-.94-.94-2.06-.94 2.06-2.06.94z\"/><path d=\"M17.41 7.96l-1.37-1.37c-.4-.4-.92-.59-1.43-.59-.52 0-1.04.2-1.43.59L10.3 9.45l-7.72 7.72c-.78.78-.78 2.05 0 2.83L4 21.41c.39.39.9.59 1.41.59.51 0 1.02-.2 1.41-.59l7.78-7.78 2.81-2.81c.8-.78.8-2.07 0-2.86zM5.41 20L4 18.59l7.72-7.72 1.47 1.35L5.41 20z\"/>\n",
              "  </svg>\n",
              "      </button>\n",
              "      \n",
              "  <style>\n",
              "    .colab-df-container {\n",
              "      display:flex;\n",
              "      flex-wrap:wrap;\n",
              "      gap: 12px;\n",
              "    }\n",
              "\n",
              "    .colab-df-convert {\n",
              "      background-color: #E8F0FE;\n",
              "      border: none;\n",
              "      border-radius: 50%;\n",
              "      cursor: pointer;\n",
              "      display: none;\n",
              "      fill: #1967D2;\n",
              "      height: 32px;\n",
              "      padding: 0 0 0 0;\n",
              "      width: 32px;\n",
              "    }\n",
              "\n",
              "    .colab-df-convert:hover {\n",
              "      background-color: #E2EBFA;\n",
              "      box-shadow: 0px 1px 2px rgba(60, 64, 67, 0.3), 0px 1px 3px 1px rgba(60, 64, 67, 0.15);\n",
              "      fill: #174EA6;\n",
              "    }\n",
              "\n",
              "    [theme=dark] .colab-df-convert {\n",
              "      background-color: #3B4455;\n",
              "      fill: #D2E3FC;\n",
              "    }\n",
              "\n",
              "    [theme=dark] .colab-df-convert:hover {\n",
              "      background-color: #434B5C;\n",
              "      box-shadow: 0px 1px 3px 1px rgba(0, 0, 0, 0.15);\n",
              "      filter: drop-shadow(0px 1px 2px rgba(0, 0, 0, 0.3));\n",
              "      fill: #FFFFFF;\n",
              "    }\n",
              "  </style>\n",
              "\n",
              "      <script>\n",
              "        const buttonEl =\n",
              "          document.querySelector('#df-5a139ffc-e9fc-4707-a899-22e3a5666d7b button.colab-df-convert');\n",
              "        buttonEl.style.display =\n",
              "          google.colab.kernel.accessAllowed ? 'block' : 'none';\n",
              "\n",
              "        async function convertToInteractive(key) {\n",
              "          const element = document.querySelector('#df-5a139ffc-e9fc-4707-a899-22e3a5666d7b');\n",
              "          const dataTable =\n",
              "            await google.colab.kernel.invokeFunction('convertToInteractive',\n",
              "                                                     [key], {});\n",
              "          if (!dataTable) return;\n",
              "\n",
              "          const docLinkHtml = 'Like what you see? Visit the ' +\n",
              "            '<a target=\"_blank\" href=https://colab.research.google.com/notebooks/data_table.ipynb>data table notebook</a>'\n",
              "            + ' to learn more about interactive tables.';\n",
              "          element.innerHTML = '';\n",
              "          dataTable['output_type'] = 'display_data';\n",
              "          await google.colab.output.renderOutput(dataTable, element);\n",
              "          const docLink = document.createElement('div');\n",
              "          docLink.innerHTML = docLinkHtml;\n",
              "          element.appendChild(docLink);\n",
              "        }\n",
              "      </script>\n",
              "    </div>\n",
              "  </div>\n",
              "  "
            ]
          },
          "metadata": {},
          "execution_count": 31
        }
      ]
    },
    {
      "cell_type": "markdown",
      "source": [],
      "metadata": {
        "id": "bXrkZPj1vZpQ"
      }
    },
    {
      "cell_type": "code",
      "source": [
        "X_train_array"
      ],
      "metadata": {
        "id": "JBw0gBBsvaIq",
        "colab": {
          "base_uri": "https://localhost:8080/"
        },
        "outputId": "be166878-20ea-4034-92f4-a26f6138c490"
      },
      "execution_count": 32,
      "outputs": [
        {
          "output_type": "execute_result",
          "data": {
            "text/plain": [
              "[array([180, 487, 177, ..., 431, 232, 138]),\n",
              " array([1152,  389,  302, ..., 1588,  399,  612])]"
            ]
          },
          "metadata": {},
          "execution_count": 32
        }
      ]
    },
    {
      "cell_type": "code",
      "source": [
        "user_id = [777]\n",
        "encoded_user_id = user_enc.transform(user_id)\n",
        "\n",
        "seen_movies = list(refined_dataset[refined_dataset['user id'] == user_id[0]]['movie'])\n",
        "print(seen_movies)"
      ],
      "metadata": {
        "id": "QXn1fs3Bvc83",
        "colab": {
          "base_uri": "https://localhost:8080/"
        },
        "outputId": "0bb9df35-689e-46bd-b275-272e74134ab9"
      },
      "execution_count": 33,
      "outputs": [
        {
          "output_type": "stream",
          "name": "stdout",
          "text": [
            "[7, 55, 87, 113, 313, 337, 389, 390, 399, 411, 432, 460, 498, 528, 580, 604, 612, 643, 666, 783, 996, 1005, 1032, 1102, 1132, 1157, 1190, 1208, 1251, 1260, 1284, 1302, 1342, 1523, 1558, 1615]\n"
          ]
        }
      ]
    },
    {
      "cell_type": "code",
      "source": [
        "len(refined_dataset['movie'].unique()), min(refined_dataset['movie']), max(refined_dataset['movie'])"
      ],
      "metadata": {
        "id": "0MPXFdgyvj0I",
        "colab": {
          "base_uri": "https://localhost:8080/"
        },
        "outputId": "6edf23c0-4977-4cd2-f46b-6264dad0fd6c"
      },
      "execution_count": 34,
      "outputs": [
        {
          "output_type": "execute_result",
          "data": {
            "text/plain": [
              "(1664, 0, 1663)"
            ]
          },
          "metadata": {},
          "execution_count": 34
        }
      ]
    },
    {
      "cell_type": "code",
      "source": [
        "unseen_movies = [i for i in range(min(refined_dataset['movie']), max(refined_dataset['movie'])+1) if i not in seen_movies]\n",
        "print(unseen_movies)"
      ],
      "metadata": {
        "id": "ZDzoaIRXvlQ7",
        "colab": {
          "base_uri": "https://localhost:8080/"
        },
        "outputId": "282019c2-51bd-4c79-e50e-b0f7677d4141"
      },
      "execution_count": 35,
      "outputs": [
        {
          "output_type": "stream",
          "name": "stdout",
          "text": [
            "[0, 1, 2, 3, 4, 5, 6, 8, 9, 10, 11, 12, 13, 14, 15, 16, 17, 18, 19, 20, 21, 22, 23, 24, 25, 26, 27, 28, 29, 30, 31, 32, 33, 34, 35, 36, 37, 38, 39, 40, 41, 42, 43, 44, 45, 46, 47, 48, 49, 50, 51, 52, 53, 54, 56, 57, 58, 59, 60, 61, 62, 63, 64, 65, 66, 67, 68, 69, 70, 71, 72, 73, 74, 75, 76, 77, 78, 79, 80, 81, 82, 83, 84, 85, 86, 88, 89, 90, 91, 92, 93, 94, 95, 96, 97, 98, 99, 100, 101, 102, 103, 104, 105, 106, 107, 108, 109, 110, 111, 112, 114, 115, 116, 117, 118, 119, 120, 121, 122, 123, 124, 125, 126, 127, 128, 129, 130, 131, 132, 133, 134, 135, 136, 137, 138, 139, 140, 141, 142, 143, 144, 145, 146, 147, 148, 149, 150, 151, 152, 153, 154, 155, 156, 157, 158, 159, 160, 161, 162, 163, 164, 165, 166, 167, 168, 169, 170, 171, 172, 173, 174, 175, 176, 177, 178, 179, 180, 181, 182, 183, 184, 185, 186, 187, 188, 189, 190, 191, 192, 193, 194, 195, 196, 197, 198, 199, 200, 201, 202, 203, 204, 205, 206, 207, 208, 209, 210, 211, 212, 213, 214, 215, 216, 217, 218, 219, 220, 221, 222, 223, 224, 225, 226, 227, 228, 229, 230, 231, 232, 233, 234, 235, 236, 237, 238, 239, 240, 241, 242, 243, 244, 245, 246, 247, 248, 249, 250, 251, 252, 253, 254, 255, 256, 257, 258, 259, 260, 261, 262, 263, 264, 265, 266, 267, 268, 269, 270, 271, 272, 273, 274, 275, 276, 277, 278, 279, 280, 281, 282, 283, 284, 285, 286, 287, 288, 289, 290, 291, 292, 293, 294, 295, 296, 297, 298, 299, 300, 301, 302, 303, 304, 305, 306, 307, 308, 309, 310, 311, 312, 314, 315, 316, 317, 318, 319, 320, 321, 322, 323, 324, 325, 326, 327, 328, 329, 330, 331, 332, 333, 334, 335, 336, 338, 339, 340, 341, 342, 343, 344, 345, 346, 347, 348, 349, 350, 351, 352, 353, 354, 355, 356, 357, 358, 359, 360, 361, 362, 363, 364, 365, 366, 367, 368, 369, 370, 371, 372, 373, 374, 375, 376, 377, 378, 379, 380, 381, 382, 383, 384, 385, 386, 387, 388, 391, 392, 393, 394, 395, 396, 397, 398, 400, 401, 402, 403, 404, 405, 406, 407, 408, 409, 410, 412, 413, 414, 415, 416, 417, 418, 419, 420, 421, 422, 423, 424, 425, 426, 427, 428, 429, 430, 431, 433, 434, 435, 436, 437, 438, 439, 440, 441, 442, 443, 444, 445, 446, 447, 448, 449, 450, 451, 452, 453, 454, 455, 456, 457, 458, 459, 461, 462, 463, 464, 465, 466, 467, 468, 469, 470, 471, 472, 473, 474, 475, 476, 477, 478, 479, 480, 481, 482, 483, 484, 485, 486, 487, 488, 489, 490, 491, 492, 493, 494, 495, 496, 497, 499, 500, 501, 502, 503, 504, 505, 506, 507, 508, 509, 510, 511, 512, 513, 514, 515, 516, 517, 518, 519, 520, 521, 522, 523, 524, 525, 526, 527, 529, 530, 531, 532, 533, 534, 535, 536, 537, 538, 539, 540, 541, 542, 543, 544, 545, 546, 547, 548, 549, 550, 551, 552, 553, 554, 555, 556, 557, 558, 559, 560, 561, 562, 563, 564, 565, 566, 567, 568, 569, 570, 571, 572, 573, 574, 575, 576, 577, 578, 579, 581, 582, 583, 584, 585, 586, 587, 588, 589, 590, 591, 592, 593, 594, 595, 596, 597, 598, 599, 600, 601, 602, 603, 605, 606, 607, 608, 609, 610, 611, 613, 614, 615, 616, 617, 618, 619, 620, 621, 622, 623, 624, 625, 626, 627, 628, 629, 630, 631, 632, 633, 634, 635, 636, 637, 638, 639, 640, 641, 642, 644, 645, 646, 647, 648, 649, 650, 651, 652, 653, 654, 655, 656, 657, 658, 659, 660, 661, 662, 663, 664, 665, 667, 668, 669, 670, 671, 672, 673, 674, 675, 676, 677, 678, 679, 680, 681, 682, 683, 684, 685, 686, 687, 688, 689, 690, 691, 692, 693, 694, 695, 696, 697, 698, 699, 700, 701, 702, 703, 704, 705, 706, 707, 708, 709, 710, 711, 712, 713, 714, 715, 716, 717, 718, 719, 720, 721, 722, 723, 724, 725, 726, 727, 728, 729, 730, 731, 732, 733, 734, 735, 736, 737, 738, 739, 740, 741, 742, 743, 744, 745, 746, 747, 748, 749, 750, 751, 752, 753, 754, 755, 756, 757, 758, 759, 760, 761, 762, 763, 764, 765, 766, 767, 768, 769, 770, 771, 772, 773, 774, 775, 776, 777, 778, 779, 780, 781, 782, 784, 785, 786, 787, 788, 789, 790, 791, 792, 793, 794, 795, 796, 797, 798, 799, 800, 801, 802, 803, 804, 805, 806, 807, 808, 809, 810, 811, 812, 813, 814, 815, 816, 817, 818, 819, 820, 821, 822, 823, 824, 825, 826, 827, 828, 829, 830, 831, 832, 833, 834, 835, 836, 837, 838, 839, 840, 841, 842, 843, 844, 845, 846, 847, 848, 849, 850, 851, 852, 853, 854, 855, 856, 857, 858, 859, 860, 861, 862, 863, 864, 865, 866, 867, 868, 869, 870, 871, 872, 873, 874, 875, 876, 877, 878, 879, 880, 881, 882, 883, 884, 885, 886, 887, 888, 889, 890, 891, 892, 893, 894, 895, 896, 897, 898, 899, 900, 901, 902, 903, 904, 905, 906, 907, 908, 909, 910, 911, 912, 913, 914, 915, 916, 917, 918, 919, 920, 921, 922, 923, 924, 925, 926, 927, 928, 929, 930, 931, 932, 933, 934, 935, 936, 937, 938, 939, 940, 941, 942, 943, 944, 945, 946, 947, 948, 949, 950, 951, 952, 953, 954, 955, 956, 957, 958, 959, 960, 961, 962, 963, 964, 965, 966, 967, 968, 969, 970, 971, 972, 973, 974, 975, 976, 977, 978, 979, 980, 981, 982, 983, 984, 985, 986, 987, 988, 989, 990, 991, 992, 993, 994, 995, 997, 998, 999, 1000, 1001, 1002, 1003, 1004, 1006, 1007, 1008, 1009, 1010, 1011, 1012, 1013, 1014, 1015, 1016, 1017, 1018, 1019, 1020, 1021, 1022, 1023, 1024, 1025, 1026, 1027, 1028, 1029, 1030, 1031, 1033, 1034, 1035, 1036, 1037, 1038, 1039, 1040, 1041, 1042, 1043, 1044, 1045, 1046, 1047, 1048, 1049, 1050, 1051, 1052, 1053, 1054, 1055, 1056, 1057, 1058, 1059, 1060, 1061, 1062, 1063, 1064, 1065, 1066, 1067, 1068, 1069, 1070, 1071, 1072, 1073, 1074, 1075, 1076, 1077, 1078, 1079, 1080, 1081, 1082, 1083, 1084, 1085, 1086, 1087, 1088, 1089, 1090, 1091, 1092, 1093, 1094, 1095, 1096, 1097, 1098, 1099, 1100, 1101, 1103, 1104, 1105, 1106, 1107, 1108, 1109, 1110, 1111, 1112, 1113, 1114, 1115, 1116, 1117, 1118, 1119, 1120, 1121, 1122, 1123, 1124, 1125, 1126, 1127, 1128, 1129, 1130, 1131, 1133, 1134, 1135, 1136, 1137, 1138, 1139, 1140, 1141, 1142, 1143, 1144, 1145, 1146, 1147, 1148, 1149, 1150, 1151, 1152, 1153, 1154, 1155, 1156, 1158, 1159, 1160, 1161, 1162, 1163, 1164, 1165, 1166, 1167, 1168, 1169, 1170, 1171, 1172, 1173, 1174, 1175, 1176, 1177, 1178, 1179, 1180, 1181, 1182, 1183, 1184, 1185, 1186, 1187, 1188, 1189, 1191, 1192, 1193, 1194, 1195, 1196, 1197, 1198, 1199, 1200, 1201, 1202, 1203, 1204, 1205, 1206, 1207, 1209, 1210, 1211, 1212, 1213, 1214, 1215, 1216, 1217, 1218, 1219, 1220, 1221, 1222, 1223, 1224, 1225, 1226, 1227, 1228, 1229, 1230, 1231, 1232, 1233, 1234, 1235, 1236, 1237, 1238, 1239, 1240, 1241, 1242, 1243, 1244, 1245, 1246, 1247, 1248, 1249, 1250, 1252, 1253, 1254, 1255, 1256, 1257, 1258, 1259, 1261, 1262, 1263, 1264, 1265, 1266, 1267, 1268, 1269, 1270, 1271, 1272, 1273, 1274, 1275, 1276, 1277, 1278, 1279, 1280, 1281, 1282, 1283, 1285, 1286, 1287, 1288, 1289, 1290, 1291, 1292, 1293, 1294, 1295, 1296, 1297, 1298, 1299, 1300, 1301, 1303, 1304, 1305, 1306, 1307, 1308, 1309, 1310, 1311, 1312, 1313, 1314, 1315, 1316, 1317, 1318, 1319, 1320, 1321, 1322, 1323, 1324, 1325, 1326, 1327, 1328, 1329, 1330, 1331, 1332, 1333, 1334, 1335, 1336, 1337, 1338, 1339, 1340, 1341, 1343, 1344, 1345, 1346, 1347, 1348, 1349, 1350, 1351, 1352, 1353, 1354, 1355, 1356, 1357, 1358, 1359, 1360, 1361, 1362, 1363, 1364, 1365, 1366, 1367, 1368, 1369, 1370, 1371, 1372, 1373, 1374, 1375, 1376, 1377, 1378, 1379, 1380, 1381, 1382, 1383, 1384, 1385, 1386, 1387, 1388, 1389, 1390, 1391, 1392, 1393, 1394, 1395, 1396, 1397, 1398, 1399, 1400, 1401, 1402, 1403, 1404, 1405, 1406, 1407, 1408, 1409, 1410, 1411, 1412, 1413, 1414, 1415, 1416, 1417, 1418, 1419, 1420, 1421, 1422, 1423, 1424, 1425, 1426, 1427, 1428, 1429, 1430, 1431, 1432, 1433, 1434, 1435, 1436, 1437, 1438, 1439, 1440, 1441, 1442, 1443, 1444, 1445, 1446, 1447, 1448, 1449, 1450, 1451, 1452, 1453, 1454, 1455, 1456, 1457, 1458, 1459, 1460, 1461, 1462, 1463, 1464, 1465, 1466, 1467, 1468, 1469, 1470, 1471, 1472, 1473, 1474, 1475, 1476, 1477, 1478, 1479, 1480, 1481, 1482, 1483, 1484, 1485, 1486, 1487, 1488, 1489, 1490, 1491, 1492, 1493, 1494, 1495, 1496, 1497, 1498, 1499, 1500, 1501, 1502, 1503, 1504, 1505, 1506, 1507, 1508, 1509, 1510, 1511, 1512, 1513, 1514, 1515, 1516, 1517, 1518, 1519, 1520, 1521, 1522, 1524, 1525, 1526, 1527, 1528, 1529, 1530, 1531, 1532, 1533, 1534, 1535, 1536, 1537, 1538, 1539, 1540, 1541, 1542, 1543, 1544, 1545, 1546, 1547, 1548, 1549, 1550, 1551, 1552, 1553, 1554, 1555, 1556, 1557, 1559, 1560, 1561, 1562, 1563, 1564, 1565, 1566, 1567, 1568, 1569, 1570, 1571, 1572, 1573, 1574, 1575, 1576, 1577, 1578, 1579, 1580, 1581, 1582, 1583, 1584, 1585, 1586, 1587, 1588, 1589, 1590, 1591, 1592, 1593, 1594, 1595, 1596, 1597, 1598, 1599, 1600, 1601, 1602, 1603, 1604, 1605, 1606, 1607, 1608, 1609, 1610, 1611, 1612, 1613, 1614, 1616, 1617, 1618, 1619, 1620, 1621, 1622, 1623, 1624, 1625, 1626, 1627, 1628, 1629, 1630, 1631, 1632, 1633, 1634, 1635, 1636, 1637, 1638, 1639, 1640, 1641, 1642, 1643, 1644, 1645, 1646, 1647, 1648, 1649, 1650, 1651, 1652, 1653, 1654, 1655, 1656, 1657, 1658, 1659, 1660, 1661, 1662, 1663]\n"
          ]
        }
      ]
    },
    {
      "cell_type": "markdown",
      "source": [
        "movies which are not seen by the user"
      ],
      "metadata": {
        "id": "J9EgEtAYvpTC"
      }
    },
    {
      "cell_type": "code",
      "source": [
        "len(unseen_movies) + len(seen_movies)"
      ],
      "metadata": {
        "id": "dKIe7wRcvt_G"
      },
      "execution_count": null,
      "outputs": []
    },
    {
      "cell_type": "code",
      "source": [
        "model_input = [np.asarray(list(encoded_user_id)*len(unseen_movies)), np.asarray(unseen_movies)]\n",
        "len(model_input), len(model_input[0])"
      ],
      "metadata": {
        "id": "I6Gzj47Rvzz8",
        "colab": {
          "base_uri": "https://localhost:8080/"
        },
        "outputId": "ff315322-1999-4ed5-80ec-e9028ba4c36f"
      },
      "execution_count": 37,
      "outputs": [
        {
          "output_type": "execute_result",
          "data": {
            "text/plain": [
              "(2, 1628)"
            ]
          },
          "metadata": {},
          "execution_count": 37
        }
      ]
    },
    {
      "cell_type": "markdown",
      "source": [
        "**DNN model is used to predict the rating of the unseen movies**"
      ],
      "metadata": {
        "id": "Q6275DYPv05Q"
      }
    },
    {
      "cell_type": "code",
      "source": [
        "predicted_ratings = model.predict(model_input)"
      ],
      "metadata": {
        "id": "4lN2oEPMv7Hn",
        "colab": {
          "base_uri": "https://localhost:8080/"
        },
        "outputId": "e60d98fc-71cf-43c1-d567-9b3739550b9e"
      },
      "execution_count": 38,
      "outputs": [
        {
          "output_type": "stream",
          "name": "stdout",
          "text": [
            "51/51 [==============================] - 0s 2ms/step\n"
          ]
        }
      ]
    },
    {
      "cell_type": "code",
      "source": [
        "print(predicted_ratings.shape)"
      ],
      "metadata": {
        "id": "csoabxwSv_ss",
        "colab": {
          "base_uri": "https://localhost:8080/"
        },
        "outputId": "6cafa62b-a3d4-4490-d94c-aac4936846dd"
      },
      "execution_count": 39,
      "outputs": [
        {
          "output_type": "stream",
          "name": "stdout",
          "text": [
            "(1628, 9)\n"
          ]
        }
      ]
    },
    {
      "cell_type": "code",
      "source": [
        "print(predicted_ratings)"
      ],
      "metadata": {
        "id": "lFrUQ3B1wDD1",
        "colab": {
          "base_uri": "https://localhost:8080/"
        },
        "outputId": "905a0d28-6cac-4656-8c64-015d80f10cb1"
      },
      "execution_count": 40,
      "outputs": [
        {
          "output_type": "stream",
          "name": "stdout",
          "text": [
            "[[8.8652623e-01 1.1342055e-01 4.5115594e-06 ... 1.2028187e-05\n",
            "  7.0740007e-06 2.7963849e-06]\n",
            " [8.0248421e-01 1.9744630e-01 6.3210982e-06 ... 1.6137457e-05\n",
            "  9.1515512e-06 3.5986077e-06]\n",
            " [9.2970496e-01 7.0246212e-02 4.0660111e-06 ... 1.0468610e-05\n",
            "  7.1644326e-06 2.5420873e-06]\n",
            " ...\n",
            " [7.2042012e-01 2.7950042e-01 7.5591406e-06 ... 1.9509816e-05\n",
            "  1.0452925e-05 4.1771586e-06]\n",
            " [7.5263548e-01 2.4730280e-01 5.8153473e-06 ... 1.5110252e-05\n",
            "  7.6725546e-06 3.0263620e-06]\n",
            " [7.1339637e-01 2.8652105e-01 7.9292486e-06 ... 2.0172645e-05\n",
            "  1.0476924e-05 4.1708481e-06]]\n"
          ]
        }
      ]
    },
    {
      "cell_type": "markdown",
      "source": [],
      "metadata": {
        "id": "KwKag4qAwJ35"
      }
    },
    {
      "cell_type": "code",
      "source": [
        "predicted_ratings = np.max(predicted_ratings, axis = 1)\n",
        "predicted_ratings"
      ],
      "metadata": {
        "id": "pQZor-_ywKZg",
        "colab": {
          "base_uri": "https://localhost:8080/"
        },
        "outputId": "1ea30427-4a6c-4459-e0b0-d599bde4498c"
      },
      "execution_count": 41,
      "outputs": [
        {
          "output_type": "execute_result",
          "data": {
            "text/plain": [
              "array([0.8865262 , 0.8024842 , 0.92970496, ..., 0.7204201 , 0.7526355 ,\n",
              "       0.7133964 ], dtype=float32)"
            ]
          },
          "metadata": {},
          "execution_count": 41
        }
      ]
    },
    {
      "cell_type": "code",
      "source": [
        "predicted_ratings.shape"
      ],
      "metadata": {
        "id": "3NwbtWsiwTG-",
        "colab": {
          "base_uri": "https://localhost:8080/"
        },
        "outputId": "9f5a459d-2ac1-4b81-f9bc-08bb5acde9f2"
      },
      "execution_count": 42,
      "outputs": [
        {
          "output_type": "execute_result",
          "data": {
            "text/plain": [
              "(1628,)"
            ]
          },
          "metadata": {},
          "execution_count": 42
        }
      ]
    },
    {
      "cell_type": "markdown",
      "source": [
        "index of ratings sorted in descending order"
      ],
      "metadata": {
        "id": "xZhl-aFSwX8p"
      }
    },
    {
      "cell_type": "code",
      "source": [
        "sorted_index = np.argsort(predicted_ratings)[::-1]\n",
        "print(sorted_index)"
      ],
      "metadata": {
        "id": "jrea8MDQwdQj",
        "colab": {
          "base_uri": "https://localhost:8080/"
        },
        "outputId": "8b8e7336-ca52-489a-dd71-22bbe4dd19d0"
      },
      "execution_count": 43,
      "outputs": [
        {
          "output_type": "stream",
          "name": "stdout",
          "text": [
            "[ 641  738 1274 ...  196 1189 1523]\n"
          ]
        }
      ]
    },
    {
      "cell_type": "markdown",
      "source": [
        "**movie names that have been extracted from the available indices**"
      ],
      "metadata": {
        "id": "4dTFhEJfwf2r"
      }
    },
    {
      "cell_type": "code",
      "source": [
        "recommended_movies = item_enc.inverse_transform(sorted_index)\n",
        "recommended_movies"
      ],
      "metadata": {
        "id": "XBNGaJHhwoCj",
        "colab": {
          "base_uri": "https://localhost:8080/"
        },
        "outputId": "3891f554-4628-4d87-a773-f6fb732326b6"
      },
      "execution_count": 44,
      "outputs": [
        {
          "output_type": "execute_result",
          "data": {
            "text/plain": [
              "array(['Grosse Fatigue (1994)', 'In the Line of Duty 2 (1987)',\n",
              "       'Saint, The (1997)', ..., 'Blue Sky (1994)', 'Psycho (1960)',\n",
              "       'Toy Story (1995)'], dtype=object)"
            ]
          },
          "metadata": {},
          "execution_count": 44
        }
      ]
    },
    {
      "cell_type": "markdown",
      "source": [
        "**movies recommended with the help of Softmax Deep Neural Networks**"
      ],
      "metadata": {
        "id": "McS5qi1Uwq1O"
      }
    },
    {
      "cell_type": "code",
      "source": [
        "from pprint import pprint\n",
        "pprint(list(recommended_movies[:20]))"
      ],
      "metadata": {
        "id": "J2sMRLSpwuFA",
        "colab": {
          "base_uri": "https://localhost:8080/"
        },
        "outputId": "05f64cd2-e5aa-4176-e243-bcd594f1662f"
      },
      "execution_count": 45,
      "outputs": [
        {
          "output_type": "stream",
          "name": "stdout",
          "text": [
            "['Grosse Fatigue (1994)',\n",
            " 'In the Line of Duty 2 (1987)',\n",
            " 'Saint, The (1997)',\n",
            " 'Sword in the Stone, The (1963)',\n",
            " 'Jaws 2 (1978)',\n",
            " 'Striking Distance (1993)',\n",
            " 'Meet Wally Sparks (1997)',\n",
            " 'Even Cowgirls Get the Blues (1993)',\n",
            " 'Diva (1981)',\n",
            " 'Baton Rouge (1988)',\n",
            " 'Month by the Lake, A (1995)',\n",
            " 'Phat Beach (1996)',\n",
            " 'Getaway, The (1994)',\n",
            " 'When We Were Kings (1996)',\n",
            " 'Cinema Paradiso (1988)',\n",
            " 'Red Firecracker, Green Firecracker (1994)',\n",
            " 'Bride of Frankenstein (1935)',\n",
            " 'This Is Spinal Tap (1984)',\n",
            " 'Conspiracy Theory (1997)',\n",
            " 'Pallbearer, The (1996)']\n"
          ]
        }
      ]
    },
    {
      "cell_type": "markdown",
      "source": [
        "**summing up the entire code into a recommender system function:**"
      ],
      "metadata": {
        "id": "Mu-L6X-qwyNX"
      }
    },
    {
      "cell_type": "code",
      "source": [
        "def recommender_system(user_id, model, n_movies):\n",
        "\n",
        "  print(\"\")\n",
        "  print(\"Movie seen by the User:\")\n",
        "  pprint(list(refined_dataset[refined_dataset['user id'] == user_id]['movie title']))\n",
        "  print(\"\")\n",
        "\n",
        "  encoded_user_id = user_enc.transform([user_id])\n",
        "\n",
        "  seen_movies = list(refined_dataset[refined_dataset['user id'] == user_id]['movie'])\n",
        "  unseen_movies = [i for i in range(min(refined_dataset['movie']), max(refined_dataset['movie'])+1) if i not in seen_movies]\n",
        "  model_input = [np.asarray(list(encoded_user_id)*len(unseen_movies)), np.asarray(unseen_movies)]\n",
        "  predicted_ratings = model.predict(model_input)\n",
        "  predicted_ratings = np.max(predicted_ratings, axis=1)\n",
        "  sorted_index = np.argsort(predicted_ratings)[::-1]\n",
        "  recommended_movies = item_enc.inverse_transform(sorted_index)\n",
        "  print(\"---------------------------------------------------------------------------------\")\n",
        "  print(\"Top \"+str(n_movies)+\" Movie recommendations for the User \"+str(user_id)+ \" are:\")\n",
        "  pprint(list(recommended_movies[:n_movies]))"
      ],
      "metadata": {
        "id": "thirr7WRw4qq"
      },
      "execution_count": 46,
      "outputs": []
    },
    {
      "cell_type": "code",
      "source": [
        "print(\"Enter user id\")\n",
        "user_id= int(input())\n",
        "\n",
        "print(\"Enter number of movies to be recommended:\")\n",
        "n_movies = int(input())\n",
        "recommender_system(user_id,model,n_movies)"
      ],
      "metadata": {
        "id": "kqMJ6oJKw5i5",
        "colab": {
          "base_uri": "https://localhost:8080/"
        },
        "outputId": "17fb2edc-4a66-4e02-9963-08b4d252b5e1"
      },
      "execution_count": 47,
      "outputs": [
        {
          "output_type": "stream",
          "name": "stdout",
          "text": [
            "Enter user id\n",
            "894\n",
            "Enter number of movies to be recommended:\n",
            "15\n",
            "\n",
            "Movie seen by the User:\n",
            "['187 (1997)',\n",
            " 'A Chef in Love (1996)',\n",
            " 'Addicted to Love (1997)',\n",
            " 'Afterglow (1997)',\n",
            " 'Air Force One (1997)',\n",
            " 'Alien: Resurrection (1997)',\n",
            " 'Amistad (1997)',\n",
            " 'Angels and Insects (1995)',\n",
            " 'Anna Karenina (1997)',\n",
            " \"Antonia's Line (1995)\",\n",
            " 'Apostle, The (1997)',\n",
            " 'Apt Pupil (1998)',\n",
            " 'As Good As It Gets (1997)',\n",
            " 'Austin Powers: International Man of Mystery (1997)',\n",
            " 'Backbeat (1993)',\n",
            " 'Barcelona (1994)',\n",
            " 'Basquiat (1996)',\n",
            " 'Bed of Roses (1996)',\n",
            " 'Belle de jour (1967)',\n",
            " 'Big Lebowski, The (1998)',\n",
            " 'Big Night (1996)',\n",
            " 'Birdcage, The (1996)',\n",
            " 'Boogie Nights (1997)',\n",
            " 'Boot, Das (1981)',\n",
            " 'Bound (1996)',\n",
            " 'Brassed Off (1996)',\n",
            " 'Breakdown (1997)',\n",
            " 'Breaking the Waves (1996)',\n",
            " 'Broken English (1996)',\n",
            " 'Brothers McMullen, The (1995)',\n",
            " 'Browning Version, The (1994)',\n",
            " 'Burnt By the Sun (1994)',\n",
            " 'Career Girls (1997)',\n",
            " 'Caro Diario (Dear Diary) (1994)',\n",
            " 'Celestial Clockwork (1994)',\n",
            " 'Chasing Amy (1997)',\n",
            " 'Cinema Paradiso (1988)',\n",
            " 'Citizen Kane (1941)',\n",
            " 'Citizen Ruth (1996)',\n",
            " 'City of Lost Children, The (1995)',\n",
            " 'Clean Slate (Coup de Torchon) (1981)',\n",
            " 'Clockwork Orange, A (1971)',\n",
            " 'Cold Comfort Farm (1995)',\n",
            " 'Con Air (1997)',\n",
            " 'Conspiracy Theory (1997)',\n",
            " 'Contact (1997)',\n",
            " 'Cop Land (1997)',\n",
            " 'Courage Under Fire (1996)',\n",
            " 'Crucible, The (1996)',\n",
            " 'Crumb (1994)',\n",
            " 'Dangerous Beauty (1998)',\n",
            " \"Dante's Peak (1997)\",\n",
            " 'Dark City (1998)',\n",
            " 'Daylight (1996)',\n",
            " 'Dead Man (1995)',\n",
            " 'Dead Man Walking (1995)',\n",
            " 'Deconstructing Harry (1997)',\n",
            " 'Delicatessen (1991)',\n",
            " \"Devil's Advocate, The (1997)\",\n",
            " \"Devil's Own, The (1997)\",\n",
            " 'Diva (1981)',\n",
            " 'Donnie Brasco (1997)',\n",
            " 'Double vie de Véronique, La (Double Life of Veronique, The) (1991)',\n",
            " 'Dragonheart (1996)',\n",
            " 'Eat Drink Man Woman (1994)',\n",
            " 'Edge, The (1997)',\n",
            " 'Emma (1996)',\n",
            " 'Enchanted April (1991)',\n",
            " 'English Patient, The (1996)',\n",
            " \"Eve's Bayou (1997)\",\n",
            " 'Event Horizon (1997)',\n",
            " 'Everyone Says I Love You (1996)',\n",
            " 'Evita (1996)',\n",
            " 'Excess Baggage (1997)',\n",
            " 'Face/Off (1997)',\n",
            " 'Fallen (1998)',\n",
            " 'Fan, The (1996)',\n",
            " 'Fargo (1996)',\n",
            " \"Fathers' Day (1997)\",\n",
            " 'Fierce Creatures (1997)',\n",
            " 'Fifth Element, The (1997)',\n",
            " 'Four Weddings and a Funeral (1994)',\n",
            " 'French Twist (Gazon maudit) (1995)',\n",
            " 'Full Monty, The (1997)',\n",
            " 'Funeral, The (1996)',\n",
            " 'G.I. Jane (1997)',\n",
            " 'Game, The (1997)',\n",
            " 'Garden of Finzi-Contini, The (Giardino dei Finzi-Contini, Il) (1970)',\n",
            " 'Gattaca (1997)',\n",
            " 'Ghost and the Darkness, The (1996)',\n",
            " 'Girl 6 (1996)',\n",
            " 'Good Will Hunting (1997)',\n",
            " 'Great Expectations (1998)',\n",
            " 'Grosse Pointe Blank (1997)',\n",
            " 'Heat (1995)',\n",
            " \"Heaven's Prisoners (1996)\",\n",
            " 'Heavenly Creatures (1994)',\n",
            " 'Henry V (1989)',\n",
            " 'Hoodlum (1997)',\n",
            " 'Horseman on the Roof, The (Hussard sur le toit, Le) (1995)',\n",
            " 'Ice Storm, The (1997)',\n",
            " 'In the Bleak Midwinter (1995)',\n",
            " 'In the Company of Men (1997)',\n",
            " 'Independence Day (ID4) (1996)',\n",
            " 'Inventing the Abbotts (1997)',\n",
            " 'Jackal, The (1997)',\n",
            " 'Jackie Brown (1997)',\n",
            " 'Jane Eyre (1996)',\n",
            " 'Jean de Florette (1986)',\n",
            " 'Jerry Maguire (1996)',\n",
            " 'Kicked in the Head (1997)',\n",
            " 'Kiss the Girls (1997)',\n",
            " 'Kolya (1996)',\n",
            " 'Kundun (1997)',\n",
            " 'L.A. Confidential (1997)',\n",
            " 'Last Dance (1996)',\n",
            " 'Lawrence of Arabia (1962)',\n",
            " 'Leaving Las Vegas (1995)',\n",
            " 'Life Less Ordinary, A (1997)',\n",
            " 'Like Water For Chocolate (Como agua para chocolate) (1992)',\n",
            " 'Lone Star (1996)',\n",
            " 'Long Kiss Goodnight, The (1996)',\n",
            " 'Looking for Richard (1996)',\n",
            " 'Losing Chase (1996)',\n",
            " 'Lost Highway (1997)',\n",
            " 'Lost World: Jurassic Park, The (1997)',\n",
            " 'Love and Other Catastrophes (1996)',\n",
            " 'Ma vie en rose (My Life in Pink) (1997)',\n",
            " 'Mad City (1997)',\n",
            " 'Madness of King George, The (1994)',\n",
            " 'Magic Hour, The (1998)',\n",
            " 'Manny & Lo (1996)',\n",
            " 'Manon of the Spring (Manon des sources) (1986)',\n",
            " \"Marvin's Room (1996)\",\n",
            " 'Mediterraneo (1991)',\n",
            " 'Men in Black (1997)',\n",
            " 'Michael Collins (1996)',\n",
            " 'Midnight in the Garden of Good and Evil (1997)',\n",
            " 'Mighty Aphrodite (1995)',\n",
            " 'Mimic (1997)',\n",
            " 'Mission: Impossible (1996)',\n",
            " 'Moll Flanders (1996)',\n",
            " \"Mr. Holland's Opus (1995)\",\n",
            " 'Mrs. Brown (Her Majesty, Mrs. Brown) (1997)',\n",
            " 'Much Ado About Nothing (1993)',\n",
            " 'Murder at 1600 (1997)',\n",
            " \"Muriel's Wedding (1994)\",\n",
            " \"My Best Friend's Wedding (1997)\",\n",
            " 'My Left Foot (1989)',\n",
            " 'My Life as a Dog (Mitt liv som hund) (1985)',\n",
            " 'Mystery Science Theater 3000: The Movie (1996)',\n",
            " 'Naked (1993)',\n",
            " 'Night Falls on Manhattan (1997)',\n",
            " 'Nikita (La Femme Nikita) (1990)',\n",
            " 'Once Upon a Time... When We Were Colored (1995)',\n",
            " 'Once Were Warriors (1994)',\n",
            " 'One Night Stand (1997)',\n",
            " 'Orlando (1993)',\n",
            " 'Othello (1995)',\n",
            " 'Palmetto (1998)',\n",
            " 'Paradise Road (1997)',\n",
            " 'Peacemaker, The (1997)',\n",
            " 'People vs. Larry Flynt, The (1996)',\n",
            " 'Phantoms (1998)',\n",
            " 'Phenomenon (1996)',\n",
            " 'Piano, The (1993)',\n",
            " 'Playing God (1997)',\n",
            " 'Ponette (1996)',\n",
            " 'Postino, Il (1994)',\n",
            " 'Postman, The (1997)',\n",
            " 'Priest (1994)',\n",
            " 'Primal Fear (1996)',\n",
            " 'Prisoner of the Mountains (Kavkazsky Plennik) (1996)',\n",
            " 'Rainmaker, The (1997)',\n",
            " 'Raise the Red Lantern (1991)',\n",
            " 'Red Corner (1997)',\n",
            " 'Remains of the Day, The (1993)',\n",
            " 'Replacement Killers, The (1998)',\n",
            " 'Restoration (1995)',\n",
            " 'Return of Martin Guerre, The (Retour de Martin Guerre, Le) (1982)',\n",
            " 'Richard III (1995)',\n",
            " 'River Wild, The (1994)',\n",
            " 'Rock, The (1996)',\n",
            " 'Room with a View, A (1986)',\n",
            " 'Rosewood (1997)',\n",
            " 'Safe (1995)',\n",
            " 'Saint, The (1997)',\n",
            " \"Schindler's List (1993)\",\n",
            " 'Scream (1996)',\n",
            " 'Secret of Roan Inish, The (1994)',\n",
            " 'Secrets & Lies (1996)',\n",
            " 'Sense and Sensibility (1995)',\n",
            " 'Seven Years in Tibet (1997)',\n",
            " 'Shadowlands (1993)',\n",
            " 'Shallow Grave (1994)',\n",
            " \"She's So Lovely (1997)\",\n",
            " \"She's the One (1996)\",\n",
            " 'Shine (1996)',\n",
            " 'Sleepers (1996)',\n",
            " 'Sling Blade (1996)',\n",
            " \"Smilla's Sense of Snow (1997)\",\n",
            " 'Speed 2: Cruise Control (1997)',\n",
            " 'Sphere (1998)',\n",
            " 'Spitfire Grill, The (1996)',\n",
            " 'Star Wars (1977)',\n",
            " 'Starship Troopers (1997)',\n",
            " 'Stealing Beauty (1996)',\n",
            " 'Substance of Fire, The (1996)',\n",
            " 'Switchback (1997)',\n",
            " 'Telling Lies in America (1997)',\n",
            " 'That Thing You Do! (1996)',\n",
            " 'Thieves (Voleurs, Les) (1996)',\n",
            " 'Thousand Acres, A (1997)',\n",
            " 'Three Colors: Blue (1993)',\n",
            " 'Three Colors: Red (1994)',\n",
            " 'Three Colors: White (1994)',\n",
            " 'Tin Cup (1996)',\n",
            " 'Tin Drum, The (Blechtrommel, Die) (1979)',\n",
            " 'Titanic (1997)',\n",
            " 'Tomorrow Never Dies (1997)',\n",
            " 'Toy Story (1995)',\n",
            " 'Trainspotting (1996)',\n",
            " 'Traveller (1997)',\n",
            " 'Trial and Error (1997)',\n",
            " 'Trigger Effect, The (1996)',\n",
            " 'Truth About Cats & Dogs, The (1996)',\n",
            " 'Twelfth Night (1996)',\n",
            " 'Twelve Monkeys (1995)',\n",
            " 'U Turn (1997)',\n",
            " \"Ulee's Gold (1997)\",\n",
            " 'Unbearable Lightness of Being, The (1988)',\n",
            " 'Up Close and Personal (1996)',\n",
            " 'Usual Suspects, The (1995)',\n",
            " 'Vertigo (1958)',\n",
            " 'Volcano (1997)',\n",
            " 'Wag the Dog (1997)',\n",
            " 'Waiting for Guffman (1996)',\n",
            " 'Welcome to the Dollhouse (1995)',\n",
            " 'When We Were Kings (1996)',\n",
            " 'When the Cats Away (Chacun cherche son chat) (1996)',\n",
            " 'Wings of Desire (1987)',\n",
            " 'Wings of the Dove, The (1997)',\n",
            " 'Withnail and I (1987)']\n",
            "\n",
            "45/45 [==============================] - 0s 2ms/step\n",
            "---------------------------------------------------------------------------------\n",
            "Top 15 Movie recommendations for the User 894 are:\n",
            "['Desperate Measures (1998)',\n",
            " 'Little Odessa (1994)',\n",
            " 'Right Stuff, The (1983)',\n",
            " 'Higher Learning (1995)',\n",
            " 'Cérémonie, La (1995)',\n",
            " 'Hana-bi (1997)',\n",
            " 'Friday (1995)',\n",
            " 'Mighty, The (1998)',\n",
            " 'Rumble in the Bronx (1995)',\n",
            " \"Carlito's Way (1993)\",\n",
            " 'Steal Big, Steal Little (1995)',\n",
            " 'Chasers (1994)',\n",
            " 'Ponette (1996)',\n",
            " 'Fierce Creatures (1997)',\n",
            " 'Bananas (1971)']\n"
          ]
        }
      ]
    }
  ]
}